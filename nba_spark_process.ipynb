{
  "nbformat": 4,
  "nbformat_minor": 0,
  "metadata": {
    "colab": {
      "provenance": [],
      "collapsed_sections": [],
      "authorship_tag": "ABX9TyOZTXpFbVPR3uYEdQjJfU3l"
    },
    "kernelspec": {
      "name": "python3",
      "display_name": "Python 3"
    },
    "language_info": {
      "name": "python"
    }
  },
  "cells": [
    {
      "cell_type": "code",
      "source": [
        "from google.colab import drive\n",
        "drive.mount('/content/drive')"
      ],
      "metadata": {
        "colab": {
          "base_uri": "https://localhost:8080/"
        },
        "id": "SGtQwEeqQ5uv",
        "outputId": "84a69774-1f90-4b71-dd0a-78d64b8eb7ba"
      },
      "execution_count": null,
      "outputs": [
        {
          "output_type": "stream",
          "name": "stdout",
          "text": [
            "Mounted at /content/drive\n"
          ]
        }
      ]
    },
    {
      "cell_type": "code",
      "source": [
        "!pip install pyspark"
      ],
      "metadata": {
        "colab": {
          "base_uri": "https://localhost:8080/"
        },
        "id": "uESPJ7KeQ8Up",
        "outputId": "4cf0e8bc-7bef-4ecc-8432-9f6cad688dd5"
      },
      "execution_count": null,
      "outputs": [
        {
          "output_type": "stream",
          "name": "stdout",
          "text": [
            "Looking in indexes: https://pypi.org/simple, https://us-python.pkg.dev/colab-wheels/public/simple/\n",
            "Collecting pyspark\n",
            "  Downloading pyspark-3.3.0.tar.gz (281.3 MB)\n",
            "\u001b[K     |████████████████████████████████| 281.3 MB 42 kB/s \n",
            "\u001b[?25hCollecting py4j==0.10.9.5\n",
            "  Downloading py4j-0.10.9.5-py2.py3-none-any.whl (199 kB)\n",
            "\u001b[K     |████████████████████████████████| 199 kB 46.2 MB/s \n",
            "\u001b[?25hBuilding wheels for collected packages: pyspark\n",
            "  Building wheel for pyspark (setup.py) ... \u001b[?25l\u001b[?25hdone\n",
            "  Created wheel for pyspark: filename=pyspark-3.3.0-py2.py3-none-any.whl size=281764026 sha256=792d29283137e7027ec32d7a3217e57756631cdf6cf27b06452f782cda1415b7\n",
            "  Stored in directory: /root/.cache/pip/wheels/7a/8e/1b/f73a52650d2e5f337708d9f6a1750d451a7349a867f928b885\n",
            "Successfully built pyspark\n",
            "Installing collected packages: py4j, pyspark\n",
            "Successfully installed py4j-0.10.9.5 pyspark-3.3.0\n"
          ]
        }
      ]
    },
    {
      "cell_type": "code",
      "source": [
        "import requests\n",
        "import numpy as np\n",
        "import pandas as pd\n",
        "import pyspark\n",
        "from pyspark.sql import SparkSession\n",
        "from pyspark.sql import functions as F\n",
        "from pyspark.sql import types"
      ],
      "metadata": {
        "id": "zaL1bQ35RMM_"
      },
      "execution_count": null,
      "outputs": []
    },
    {
      "cell_type": "code",
      "source": [
        "from google.colab import auth\n",
        "auth.authenticate_user()\n",
        "\n",
        "import gspread\n",
        "from google.auth import default\n",
        "creds, _ = default()\n",
        "\n",
        "gc = gspread.authorize(creds)"
      ],
      "metadata": {
        "id": "YCqjjHZsCj68"
      },
      "execution_count": null,
      "outputs": []
    },
    {
      "cell_type": "code",
      "source": [
        "spark = SparkSession\\\n",
        "          .builder \\\n",
        "          .master(\"local[*]\") \\\n",
        "          .appName('nba') \\\n",
        "          .getOrCreate()"
      ],
      "metadata": {
        "id": "9osFao_mRSSi"
      },
      "execution_count": null,
      "outputs": []
    },
    {
      "cell_type": "code",
      "source": [
        "games_df = spark.read\\\n",
        "              .option('header', 'true')\\\n",
        "              .csv(\"/content/drive/MyDrive/NBA_Scrape/data/games/*\", inferSchema= True)"
      ],
      "metadata": {
        "id": "cpi44PbxSw2N"
      },
      "execution_count": null,
      "outputs": []
    },
    {
      "cell_type": "code",
      "source": [
        "games_df.count(), len(games_df.columns)"
      ],
      "metadata": {
        "colab": {
          "base_uri": "https://localhost:8080/"
        },
        "id": "8X1EUuQFUyv9",
        "outputId": "869dea3a-271a-4ab3-937a-e9555b2d15b3"
      },
      "execution_count": null,
      "outputs": [
        {
          "output_type": "execute_result",
          "data": {
            "text/plain": [
              "(32297, 11)"
            ]
          },
          "metadata": {},
          "execution_count": 7
        }
      ]
    },
    {
      "cell_type": "code",
      "source": [
        "games_df.show(5)"
      ],
      "metadata": {
        "colab": {
          "base_uri": "https://localhost:8080/"
        },
        "id": "2IBEfD0iUbZg",
        "outputId": "23fa3dad-a0e8-4e7c-bdad-75827c165089"
      },
      "execution_count": null,
      "outputs": [
        {
          "output_type": "stream",
          "name": "stdout",
          "text": [
            "+---------------+--------------------+----------+--------------------+----------+----------+-----+-------+-------------------+---------+--------------------+\n",
            "|seasonStartYear|            awayTeam|pointsAway|            homeTeam|pointsHome|attendance|notes|startET|           datetime|isRegular|             game_id|\n",
            "+---------------+--------------------+----------+--------------------+----------+----------+-----+-------+-------------------+---------+--------------------+\n",
            "|           2018|  Philadelphia 76ers|      87.0|      Boston Celtics|     105.0|   18624.0| null|  8:00p|2018-10-16 00:00:00|        1|386daeeab4034a75b...|\n",
            "|           2018|Oklahoma City Thu...|     100.0|Golden State Warr...|     108.0|   19596.0| null| 10:30p|2018-10-16 00:00:00|        1|1d3f8cfeb7134600a...|\n",
            "|           2018|New Orleans Pelicans|     131.0|     Houston Rockets|     112.0|   18055.0| null|  8:00p|2018-10-17 00:00:00|        1|69fbb9cc8ab1478ba...|\n",
            "|           2018|     Milwaukee Bucks|     113.0|   Charlotte Hornets|     112.0|   17889.0| null|  7:00p|2018-10-17 00:00:00|        1|0e85d964d8754f37a...|\n",
            "|           2018|       Brooklyn Nets|     100.0|     Detroit Pistons|     103.0|   20332.0| null|  7:00p|2018-10-17 00:00:00|        1|053ba6fc2d874af6a...|\n",
            "+---------------+--------------------+----------+--------------------+----------+----------+-----+-------+-------------------+---------+--------------------+\n",
            "only showing top 5 rows\n",
            "\n"
          ]
        }
      ]
    },
    {
      "cell_type": "code",
      "source": [
        "games_df.printSchema()"
      ],
      "metadata": {
        "colab": {
          "base_uri": "https://localhost:8080/"
        },
        "id": "Yghbh98RUeGv",
        "outputId": "8352b3a0-a7c9-4f48-ea12-bef1dbd49963"
      },
      "execution_count": null,
      "outputs": [
        {
          "output_type": "stream",
          "name": "stdout",
          "text": [
            "root\n",
            " |-- seasonStartYear: integer (nullable = true)\n",
            " |-- awayTeam: string (nullable = true)\n",
            " |-- pointsAway: double (nullable = true)\n",
            " |-- homeTeam: string (nullable = true)\n",
            " |-- pointsHome: double (nullable = true)\n",
            " |-- attendance: double (nullable = true)\n",
            " |-- notes: string (nullable = true)\n",
            " |-- startET: string (nullable = true)\n",
            " |-- datetime: timestamp (nullable = true)\n",
            " |-- isRegular: integer (nullable = true)\n",
            " |-- game_id: string (nullable = true)\n",
            "\n"
          ]
        }
      ]
    },
    {
      "cell_type": "code",
      "source": [
        "games_df = games_df\\\n",
        "            .withColumn(\"pointsAway\", games_df.pointsAway.cast(\"integer\"))\\\n",
        "            .withColumn(\"pointsHome\", games_df.pointsHome.cast(\"integer\"))\\\n",
        "            .withColumn(\"attendance\", games_df.attendance.cast(\"integer\"))\\\n",
        "            .withColumn(\"datetime\", games_df.datetime.cast(types.DateType()))"
      ],
      "metadata": {
        "id": "7RaGxxtqNDCx"
      },
      "execution_count": null,
      "outputs": []
    },
    {
      "cell_type": "code",
      "source": [
        "games_df.printSchema()"
      ],
      "metadata": {
        "colab": {
          "base_uri": "https://localhost:8080/"
        },
        "id": "jiKYFJaYNCdX",
        "outputId": "496a8eab-8030-498a-b93a-f5f9db3ef045"
      },
      "execution_count": null,
      "outputs": [
        {
          "output_type": "stream",
          "name": "stdout",
          "text": [
            "root\n",
            " |-- seasonStartYear: integer (nullable = true)\n",
            " |-- awayTeam: string (nullable = true)\n",
            " |-- pointsAway: integer (nullable = true)\n",
            " |-- homeTeam: string (nullable = true)\n",
            " |-- pointsHome: integer (nullable = true)\n",
            " |-- attendance: integer (nullable = true)\n",
            " |-- notes: string (nullable = true)\n",
            " |-- startET: string (nullable = true)\n",
            " |-- datetime: date (nullable = true)\n",
            " |-- isRegular: integer (nullable = true)\n",
            " |-- game_id: string (nullable = true)\n",
            "\n"
          ]
        }
      ]
    },
    {
      "cell_type": "code",
      "source": [
        "games_df.show(5)"
      ],
      "metadata": {
        "colab": {
          "base_uri": "https://localhost:8080/"
        },
        "id": "neS5zhsjQeQv",
        "outputId": "b69c50ab-1922-4b17-d9c1-d8763ba4fd7e"
      },
      "execution_count": null,
      "outputs": [
        {
          "output_type": "stream",
          "name": "stdout",
          "text": [
            "+---------------+--------------------+----------+--------------------+----------+----------+-----+-------+----------+---------+--------------------+\n",
            "|seasonStartYear|            awayTeam|pointsAway|            homeTeam|pointsHome|attendance|notes|startET|  datetime|isRegular|             game_id|\n",
            "+---------------+--------------------+----------+--------------------+----------+----------+-----+-------+----------+---------+--------------------+\n",
            "|           2018|  Philadelphia 76ers|        87|      Boston Celtics|       105|     18624| null|  8:00p|2018-10-16|        1|386daeeab4034a75b...|\n",
            "|           2018|Oklahoma City Thu...|       100|Golden State Warr...|       108|     19596| null| 10:30p|2018-10-16|        1|1d3f8cfeb7134600a...|\n",
            "|           2018|New Orleans Pelicans|       131|     Houston Rockets|       112|     18055| null|  8:00p|2018-10-17|        1|69fbb9cc8ab1478ba...|\n",
            "|           2018|     Milwaukee Bucks|       113|   Charlotte Hornets|       112|     17889| null|  7:00p|2018-10-17|        1|0e85d964d8754f37a...|\n",
            "|           2018|       Brooklyn Nets|       100|     Detroit Pistons|       103|     20332| null|  7:00p|2018-10-17|        1|053ba6fc2d874af6a...|\n",
            "+---------------+--------------------+----------+--------------------+----------+----------+-----+-------+----------+---------+--------------------+\n",
            "only showing top 5 rows\n",
            "\n"
          ]
        }
      ]
    },
    {
      "cell_type": "code",
      "source": [
        "salary_df = spark.read\\\n",
        "              .option('header', 'true')\\\n",
        "              .csv(\"/content/drive/MyDrive/NBA_Scrape/data/playersalary/*\", inferSchema= True)"
      ],
      "metadata": {
        "id": "KtZINjMMzDvn"
      },
      "execution_count": null,
      "outputs": []
    },
    {
      "cell_type": "code",
      "source": [
        "salary_df.count()"
      ],
      "metadata": {
        "colab": {
          "base_uri": "https://localhost:8080/"
        },
        "id": "_ZL6dwKA13be",
        "outputId": "0c2dda0d-be30-4c1e-88c1-d5186d88546a"
      },
      "execution_count": null,
      "outputs": [
        {
          "output_type": "execute_result",
          "data": {
            "text/plain": [
              "12815"
            ]
          },
          "metadata": {},
          "execution_count": 14
        }
      ]
    },
    {
      "cell_type": "code",
      "source": [
        "salary_df.show(5)"
      ],
      "metadata": {
        "colab": {
          "base_uri": "https://localhost:8080/"
        },
        "id": "b5N0LHyhzNFT",
        "outputId": "9920604c-9258-4f61-8d31-335c0e196c0e"
      },
      "execution_count": null,
      "outputs": [
        {
          "output_type": "stream",
          "name": "stdout",
          "text": [
            "+----------------+---------------+-----------+------------------+\n",
            "|      playerName|seasonStartYear|     salary|inflationAdjSalary|\n",
            "+----------------+---------------+-----------+------------------+\n",
            "|  Michael Jordan|           1996|$30,140,000|       $52,258,566|\n",
            "|    Horace Grant|           1996|$14,857,000|       $25,759,971|\n",
            "|   Reggie Miller|           1996|$11,250,000|       $19,505,934|\n",
            "|Shaquille O'Neal|           1996|$10,714,000|       $18,576,585|\n",
            "|     Gary Payton|           1996|$10,212,000|       $17,706,187|\n",
            "+----------------+---------------+-----------+------------------+\n",
            "only showing top 5 rows\n",
            "\n"
          ]
        }
      ]
    },
    {
      "cell_type": "code",
      "source": [
        "salary_df = salary_df.coalesce(1)\\\n",
        "                    .dropDuplicates(subset=['playerName', 'seasonStartYear', \"salary\"])"
      ],
      "metadata": {
        "id": "q2B_4L8FzgvO"
      },
      "execution_count": null,
      "outputs": []
    },
    {
      "cell_type": "code",
      "source": [
        "players_df = spark.read\\\n",
        "                .option(\"header\", \"true\")\\\n",
        "                .csv(\"/content/drive/MyDrive/NBA_Scrape/data/playerinfo/*\", inferSchema=True)"
      ],
      "metadata": {
        "id": "LBIBG77PVTr9"
      },
      "execution_count": null,
      "outputs": []
    },
    {
      "cell_type": "code",
      "source": [
        "players_df.count(), len(players_df.columns)"
      ],
      "metadata": {
        "colab": {
          "base_uri": "https://localhost:8080/"
        },
        "id": "qC9pWVpDPdp4",
        "outputId": "176619ce-2d00-43dd-9b90-a661680fa30a"
      },
      "execution_count": null,
      "outputs": [
        {
          "output_type": "execute_result",
          "data": {
            "text/plain": [
              "(5023, 9)"
            ]
          },
          "metadata": {},
          "execution_count": 18
        }
      ]
    },
    {
      "cell_type": "code",
      "source": [
        "players_df.show(5)"
      ],
      "metadata": {
        "colab": {
          "base_uri": "https://localhost:8080/"
        },
        "id": "aUeTroj6PnoI",
        "outputId": "4f6be7e6-35df-4094-fb51-4c506028db05"
      },
      "execution_count": null,
      "outputs": [
        {
          "output_type": "stream",
          "name": "stdout",
          "text": [
            "+--------------------+----+----+---+----+-----+----------------+--------------------+--------------------+\n",
            "|          playerName|From|  To|Pos|  Ht|   Wt|       birthDate|            Colleges|             img_url|\n",
            "+--------------------+----+----+---+----+-----+----------------+--------------------+--------------------+\n",
            "|      Alaa Abdelnaby|1991|1995|F-C|6-10|240.0|   June 24, 1968|                Duke|https://www.baske...|\n",
            "|     Zaid Abdul-Aziz|1969|1978|C-F| 6-9|235.0|   April 7, 1946|          Iowa State|                null|\n",
            "|Kareem Abdul-Jabbar*|1970|1989|  C| 7-2|225.0|  April 16, 1947|                UCLA|https://www.baske...|\n",
            "|  Mahmoud Abdul-Rauf|1991|2001|  G| 6-1|162.0|   March 9, 1969|                 LSU|                null|\n",
            "|   Tariq Abdul-Wahad|1998|2003|  F| 6-6|223.0|November 3, 1974|Michigan, San Jos...|                null|\n",
            "+--------------------+----+----+---+----+-----+----------------+--------------------+--------------------+\n",
            "only showing top 5 rows\n",
            "\n"
          ]
        }
      ]
    },
    {
      "cell_type": "code",
      "source": [
        "players_df.printSchema()"
      ],
      "metadata": {
        "colab": {
          "base_uri": "https://localhost:8080/"
        },
        "id": "dddbmwcQVguo",
        "outputId": "6af8c3bd-6dbf-43f4-c495-4f661d54ebc8"
      },
      "execution_count": null,
      "outputs": [
        {
          "output_type": "stream",
          "name": "stdout",
          "text": [
            "root\n",
            " |-- playerName: string (nullable = true)\n",
            " |-- From: integer (nullable = true)\n",
            " |-- To: integer (nullable = true)\n",
            " |-- Pos: string (nullable = true)\n",
            " |-- Ht: string (nullable = true)\n",
            " |-- Wt: double (nullable = true)\n",
            " |-- birthDate: string (nullable = true)\n",
            " |-- Colleges: string (nullable = true)\n",
            " |-- img_url: string (nullable = true)\n",
            "\n"
          ]
        }
      ]
    },
    {
      "cell_type": "code",
      "source": [
        "# players_df.select([F.count(F.when(\n",
        "#                            F.isnan(c) |\n",
        "#                            F.col(c).isNull() | \n",
        "#                            (F.col(c) == \"\") |\n",
        "#                            F.col(c).contains('None') |\n",
        "#                            F.col(c).contains('Null'), c\n",
        "#                            )\n",
        "#                        ).alias(c) for c in players_df.columns]\n",
        "#    ).show()"
      ],
      "metadata": {
        "id": "av1LH_11YS-z"
      },
      "execution_count": null,
      "outputs": []
    },
    {
      "cell_type": "code",
      "source": [
        "players_df.select('playerName').distinct().count()"
      ],
      "metadata": {
        "colab": {
          "base_uri": "https://localhost:8080/"
        },
        "id": "zK8kpSx3xReH",
        "outputId": "7f776e86-295d-4571-caf9-f7b8148d3593"
      },
      "execution_count": null,
      "outputs": [
        {
          "output_type": "execute_result",
          "data": {
            "text/plain": [
              "4980"
            ]
          },
          "metadata": {},
          "execution_count": 22
        }
      ]
    },
    {
      "cell_type": "code",
      "source": [
        "player_dup = list(players_df.groupBy('playerName').count().filter(\"count > 1\").select('playerName').toPandas()['playerName'].values)\n",
        "players_df.filter(players_df.playerName.isin(player_dup)).show(44)"
      ],
      "metadata": {
        "colab": {
          "base_uri": "https://localhost:8080/"
        },
        "id": "pkrNLojlyXjf",
        "outputId": "9a3b83de-d005-4b56-cd4a-019a3b32977d"
      },
      "execution_count": null,
      "outputs": [
        {
          "output_type": "stream",
          "name": "stdout",
          "text": [
            "+----------------+----+----+---+----+-----+------------------+--------------------+--------------------+\n",
            "|      playerName|From|  To|Pos|  Ht|   Wt|         birthDate|            Colleges|             img_url|\n",
            "+----------------+----+----+---+----+-----+------------------+--------------------+--------------------+\n",
            "|    Dan Anderson|1968|1969|  C|6-10|230.0| February 15, 1943|    Augsburg College|                null|\n",
            "|    Dan Anderson|1975|1976|  G| 6-2|185.0|   January 1, 1951|                 USC|https://www.baske...|\n",
            "|       Dee Brown|1991|2002|  G| 6-1|160.0| November 29, 1968|Jacksonville Univ...|                null|\n",
            "|       Dee Brown|2007|2009|  G| 6-0|185.0|   August 17, 1984|            Illinois|                null|\n",
            "|      Mark Davis|1989|1989|F-G| 6-6|195.0|      June 8, 1963|        Old Dominion|                null|\n",
            "|      Mark Davis|1996|2000|G-F| 6-7|210.0|    April 26, 1973|Howard College, T...|                null|\n",
            "|      Mike Davis|1970|1973|  G| 6-3|185.0|     July 26, 1946|Virginia Union Un...|                null|\n",
            "|      Mike Davis|1983|1983|  F|6-10|230.0|    August 2, 1956|            Maryland|                null|\n",
            "|       Bob Duffy|1947|1947|  F| 6-4|175.0|      July 5, 1922|              Tulane|                null|\n",
            "|       Bob Duffy|1963|1965|  G| 6-3|185.0|September 26, 1940|             Colgate|                null|\n",
            "|   Mike Dunleavy|1977|1990|  G| 6-3|180.0|    March 21, 1954|      South Carolina|                null|\n",
            "|   Mike Dunleavy|2003|2017|F-G| 6-9|230.0|September 15, 1980|                Duke|https://www.baske...|\n",
            "|     Matt Guokas|1947|1947|  F| 6-3|195.0| November 11, 1915|      Saint Joseph's|                null|\n",
            "|     Matt Guokas|1967|1976|G-F| 6-5|175.0| February 25, 1944|      Saint Joseph's|                null|\n",
            "|Cedric Henderson|1987|1987|  F| 6-8|210.0|   October 3, 1965|             Georgia|                null|\n",
            "|Cedric Henderson|1998|2002|  F| 6-7|215.0|    March 11, 1975|             Memphis|                null|\n",
            "|Gerald Henderson|1980|1992|  G| 6-2|175.0|  January 16, 1956|                 VCU|                null|\n",
            "|Gerald Henderson|2010|2017|  G| 6-5|215.0|  December 9, 1987|                Duke|https://www.baske...|\n",
            "|    Luke Jackson|1965|1972|F-C| 6-9|240.0|  October 31, 1941|University of Tex...|                null|\n",
            "|    Luke Jackson|2005|2008|  F| 6-7|215.0|  November 6, 1981|              Oregon|https://www.baske...|\n",
            "|    Tony Jackson|1968|1969|F-G| 6-4|200.0|  November 7, 1942|          St. John's|                null|\n",
            "|    Tony Jackson|1981|1981|  G| 6-0|170.0|  January 17, 1958|       Florida State|                null|\n",
            "|      Mike James|2002|2014|  G| 6-2|188.0|     June 23, 1975|            Duquesne|https://www.baske...|\n",
            "|      Mike James|2018|2021|  G| 6-1|189.0|   August 18, 1990|               Lamar|https://www.baske...|\n",
            "|   Chris Johnson|2011|2013|  C|6-11|210.0|     July 15, 1985|                 LSU|https://www.baske...|\n",
            "|   Chris Johnson|2013|2016|F-G| 6-6|206.0|    April 29, 1990|              Dayton|https://www.baske...|\n",
            "|   Eddie Johnson|1978|1987|  G| 6-2|180.0| February 24, 1955|              Auburn|https://www.baske...|\n",
            "|   Eddie Johnson|1982|1999|F-G| 6-7|215.0|       May 1, 1959|            Illinois|https://www.baske...|\n",
            "|  George Johnson|1971|1974|  C|6-11|245.0|     June 19, 1947|   Stephen F. Austin|                null|\n",
            "|  George Johnson|1973|1986|C-F|6-11|205.0| December 18, 1948|  Dillard University|                null|\n",
            "|  George Johnson|1979|1986|F-C| 6-7|210.0|  December 8, 1956|          St. John's|                null|\n",
            "|     Ken Johnson|1986|1986|  F| 6-8|240.0|  November 7, 1962| USC, Michigan State|https://www.baske...|\n",
            "|     Ken Johnson|2003|2003|F-C|6-11|240.0|  February 1, 1978|          Ohio State|                null|\n",
            "|   Larry Johnson|1978|1978|  G| 6-3|205.0| November 28, 1954|            Kentucky|                null|\n",
            "|   Larry Johnson|1992|2001|  F| 6-6|250.0|    March 14, 1969|                UNLV|https://www.baske...|\n",
            "|   Charles Jones|1984|1998|F-C| 6-9|215.0|     April 3, 1957|Albany State Univ...|                null|\n",
            "|   Charles Jones|1985|1989|  F| 6-8|215.0|  January 12, 1962|          Louisville|                null|\n",
            "|   Charles Jones|1999|2000|  G| 6-3|180.0|     July 17, 1975|Rutgers Universit...|                null|\n",
            "|      Mark Jones|1984|1984|  G| 6-1|175.0|    April 10, 1961|     St. Bonaventure|                null|\n",
            "|      Mark Jones|2005|2005|  G| 6-6|215.0|      May 25, 1975|Minnesota, Centra...|                null|\n",
            "|     George King|1952|1958|  G| 6-0|175.0|   August 16, 1928|University of Cha...|https://www.baske...|\n",
            "|     George King|2019|2022|G-F| 6-6|225.0|  January 15, 1994|            Colorado|                null|\n",
            "|       David Lee|1968|1969|  F| 6-7|225.0|    March 31, 1942|       San Francisco|https://www.baske...|\n",
            "|       David Lee|2006|2017|  F| 6-9|245.0|    April 29, 1983|             Florida|https://www.baske...|\n",
            "+----------------+----+----+---+----+-----+------------------+--------------------+--------------------+\n",
            "only showing top 44 rows\n",
            "\n"
          ]
        }
      ]
    },
    {
      "cell_type": "code",
      "source": [
        "def createExp(end, start):\n",
        "  if start == None:\n",
        "    return None\n",
        "  else:\n",
        "    return end-start \n",
        "\n",
        "yr_diff_udf = F.udf(createExp, returnType=types.IntegerType())"
      ],
      "metadata": {
        "id": "o9OoRcvW8zvX"
      },
      "execution_count": null,
      "outputs": []
    },
    {
      "cell_type": "code",
      "source": [
        "players_df = players_df\\\n",
        "                .withColumn(\"hall_of_fame\", F.regexp_replace(F.regexp_extract(F.col('playerName'), \"\\*\", 0), \"\\*\", \"Yes\"))\\\n",
        "                .withColumn(\"playerName\", F.regexp_replace(F.col('playerName'), \"\\*\", \"\").cast(types.StringType()))\\\n",
        "                .withColumn(\"birthDate\", F.to_date(players_df.birthDate, \"MMMM d, yyyy\").cast(types.DateType()))\\\n",
        "                .withColumnRenamed(\"From\", \"start_career\")\\\n",
        "                .withColumnRenamed(\"To\", \"end_career\")\\\n",
        "                .withColumnRenamed(\"Pos\", \"position\")\\\n",
        "                .withColumnRenamed(\"Ht\", \"height\")\\\n",
        "                .withColumnRenamed('Wt', 'weight')\\\n",
        "                .withColumnRenamed(\"birthDate\", \"birth_date\")\\\n",
        "                .withColumnRenamed('playerName', 'player_name')"
      ],
      "metadata": {
        "id": "OW_K8_CTPOdi"
      },
      "execution_count": null,
      "outputs": []
    },
    {
      "cell_type": "code",
      "source": [
        "players_df.show(10)"
      ],
      "metadata": {
        "colab": {
          "base_uri": "https://localhost:8080/"
        },
        "id": "ArYkXR6Sgoyo",
        "outputId": "0eb3a85e-5398-4027-e2cc-2391dedae164"
      },
      "execution_count": null,
      "outputs": [
        {
          "output_type": "stream",
          "name": "stdout",
          "text": [
            "+-------------------+------------+----------+--------+------+------+----------+--------------------+--------------------+------------+\n",
            "|        player_name|start_career|end_career|position|height|weight|birth_date|            Colleges|             img_url|hall_of_fame|\n",
            "+-------------------+------------+----------+--------+------+------+----------+--------------------+--------------------+------------+\n",
            "|     Alaa Abdelnaby|        1991|      1995|     F-C|  6-10| 240.0|1968-06-24|                Duke|https://www.baske...|            |\n",
            "|    Zaid Abdul-Aziz|        1969|      1978|     C-F|   6-9| 235.0|1946-04-07|          Iowa State|                null|            |\n",
            "|Kareem Abdul-Jabbar|        1970|      1989|       C|   7-2| 225.0|1947-04-16|                UCLA|https://www.baske...|         Yes|\n",
            "| Mahmoud Abdul-Rauf|        1991|      2001|       G|   6-1| 162.0|1969-03-09|                 LSU|                null|            |\n",
            "|  Tariq Abdul-Wahad|        1998|      2003|       F|   6-6| 223.0|1974-11-03|Michigan, San Jos...|                null|            |\n",
            "|Shareef Abdur-Rahim|        1997|      2008|       F|   6-9| 225.0|1976-12-11|          California|https://www.baske...|            |\n",
            "|      Tom Abernethy|        1977|      1981|       F|   6-7| 220.0|1954-05-06|             Indiana|                null|            |\n",
            "|        Forest Able|        1957|      1957|       G|   6-3| 180.0|1932-07-27|    Western Kentucky|                null|            |\n",
            "|     John Abramovic|        1947|      1948|       F|   6-3| 195.0|1919-02-09|    Salem University|                null|            |\n",
            "|       Álex Abrines|        2017|      2019|     G-F|   6-6| 200.0|1993-08-01|                null|https://www.baske...|            |\n",
            "+-------------------+------------+----------+--------+------+------+----------+--------------------+--------------------+------------+\n",
            "only showing top 10 rows\n",
            "\n"
          ]
        }
      ]
    },
    {
      "cell_type": "code",
      "source": [
        "players_df = players_df\\\n",
        "                .withColumn(\"experience\", F.col('end_career')-F.col('start_career'))\\\n",
        "                .withColumn('career_start_age', yr_diff_udf(F.col('start_career'), F.year(F.col('birth_date'))))\\\n",
        "                .withColumn('career_end_age', yr_diff_udf(F.col('end_career'), F.year(F.col('birth_date'))))\\\n",
        "                .withColumn('img_url', F.trim(F.col('img_url')))"
      ],
      "metadata": {
        "id": "nyHuvMPqd8-k"
      },
      "execution_count": null,
      "outputs": []
    },
    {
      "cell_type": "code",
      "source": [
        "players_df.show()"
      ],
      "metadata": {
        "colab": {
          "base_uri": "https://localhost:8080/"
        },
        "id": "w4UKu9Mlcvvu",
        "outputId": "b798654f-117e-4b40-d6c7-18f82337530b"
      },
      "execution_count": null,
      "outputs": [
        {
          "output_type": "stream",
          "name": "stdout",
          "text": [
            "+-------------------+------------+----------+--------+------+------+----------+--------------------+--------------------+------------+----------+----------------+--------------+\n",
            "|        player_name|start_career|end_career|position|height|weight|birth_date|            Colleges|             img_url|hall_of_fame|experience|career_start_age|career_end_age|\n",
            "+-------------------+------------+----------+--------+------+------+----------+--------------------+--------------------+------------+----------+----------------+--------------+\n",
            "|     Alaa Abdelnaby|        1991|      1995|     F-C|  6-10| 240.0|1968-06-24|                Duke|https://www.baske...|            |         4|              23|            27|\n",
            "|    Zaid Abdul-Aziz|        1969|      1978|     C-F|   6-9| 235.0|1946-04-07|          Iowa State|                null|            |         9|              23|            32|\n",
            "|Kareem Abdul-Jabbar|        1970|      1989|       C|   7-2| 225.0|1947-04-16|                UCLA|https://www.baske...|         Yes|        19|              23|            42|\n",
            "| Mahmoud Abdul-Rauf|        1991|      2001|       G|   6-1| 162.0|1969-03-09|                 LSU|                null|            |        10|              22|            32|\n",
            "|  Tariq Abdul-Wahad|        1998|      2003|       F|   6-6| 223.0|1974-11-03|Michigan, San Jos...|                null|            |         5|              24|            29|\n",
            "|Shareef Abdur-Rahim|        1997|      2008|       F|   6-9| 225.0|1976-12-11|          California|https://www.baske...|            |        11|              21|            32|\n",
            "|      Tom Abernethy|        1977|      1981|       F|   6-7| 220.0|1954-05-06|             Indiana|                null|            |         4|              23|            27|\n",
            "|        Forest Able|        1957|      1957|       G|   6-3| 180.0|1932-07-27|    Western Kentucky|                null|            |         0|              25|            25|\n",
            "|     John Abramovic|        1947|      1948|       F|   6-3| 195.0|1919-02-09|    Salem University|                null|            |         1|              28|            29|\n",
            "|       Álex Abrines|        2017|      2019|     G-F|   6-6| 200.0|1993-08-01|                null|https://www.baske...|            |         2|              24|            26|\n",
            "|   Precious Achiuwa|        2021|      2022|       F|   6-8| 225.0|1999-09-19|             Memphis|https://www.baske...|            |         1|              22|            23|\n",
            "|         Alex Acker|        2006|      2009|       G|   6-5| 185.0|1983-01-21|          Pepperdine|                null|            |         3|              23|            26|\n",
            "|       Don Ackerman|        1954|      1954|       G|   6-0| 183.0|1930-09-04|Long Island Unive...|                null|            |         0|              24|            24|\n",
            "|         Mark Acres|        1988|      1993|     F-C|  6-11| 220.0|1962-11-15|        Oral Roberts|                null|            |         5|              26|            31|\n",
            "|          Bud Acton|        1968|      1968|       F|   6-6| 210.0|1942-01-11|   Hillsdale College|                null|            |         0|              26|            26|\n",
            "|         Quincy Acy|        2013|      2019|     F-C|   6-7| 240.0|1990-10-06|              Baylor|https://www.baske...|            |         6|              23|            29|\n",
            "|        Alvan Adams|        1976|      1988|     C-F|   6-9| 210.0|1954-07-19|            Oklahoma|https://www.baske...|            |        12|              22|            34|\n",
            "|          Don Adams|        1971|      1977|       F|   6-6| 210.0|1947-11-27|        Northwestern|                null|            |         6|              24|            30|\n",
            "|       George Adams|        1973|      1975|     F-G|   6-5| 210.0|1949-05-15|Gardner-Webb Univ...|                null|            |         2|              24|            26|\n",
            "|       Hassan Adams|        2007|      2009|       G|   6-4| 220.0|1984-06-20|             Arizona|                null|            |         2|              23|            25|\n",
            "+-------------------+------------+----------+--------+------+------+----------+--------------------+--------------------+------------+----------+----------------+--------------+\n",
            "only showing top 20 rows\n",
            "\n"
          ]
        }
      ]
    },
    {
      "cell_type": "code",
      "source": [
        "player_dup = list(players_df.groupBy('player_name').count().filter(\"count > 1\").select('player_name').toPandas()['player_name'].values)\n",
        "players_df.filter(players_df.player_name.isin(player_dup)).count()"
      ],
      "metadata": {
        "colab": {
          "base_uri": "https://localhost:8080/"
        },
        "id": "H3zSpiwQ_Qzx",
        "outputId": "caa3f57b-335f-4be4-f0e8-a2974f8b8c07"
      },
      "execution_count": null,
      "outputs": [
        {
          "output_type": "execute_result",
          "data": {
            "text/plain": [
              "91"
            ]
          },
          "metadata": {},
          "execution_count": 29
        }
      ]
    },
    {
      "cell_type": "code",
      "source": [
        "# players_df = players_df\\\n",
        "#                   .sort(F.col('player_name').asc(), \n",
        "#                         F.col('experience').desc(), \n",
        "#                         F.col('start_career').desc(), \n",
        "#                         F.col('end_career').desc())\\\n",
        "#                   .coalesce(1)\\\n",
        "#                   .dropDuplicates(subset=['player_name'])"
      ],
      "metadata": {
        "id": "80dPAh0H63UC"
      },
      "execution_count": null,
      "outputs": []
    },
    {
      "cell_type": "code",
      "source": [
        "players_df.show()"
      ],
      "metadata": {
        "colab": {
          "base_uri": "https://localhost:8080/"
        },
        "id": "AFIHMp-yFAYr",
        "outputId": "b2e82be8-a91f-470e-97ca-72496fa47f12"
      },
      "execution_count": null,
      "outputs": [
        {
          "output_type": "stream",
          "name": "stdout",
          "text": [
            "+-------------------+------------+----------+--------+------+------+----------+--------------------+--------------------+------------+----------+----------------+--------------+\n",
            "|        player_name|start_career|end_career|position|height|weight|birth_date|            Colleges|             img_url|hall_of_fame|experience|career_start_age|career_end_age|\n",
            "+-------------------+------------+----------+--------+------+------+----------+--------------------+--------------------+------------+----------+----------------+--------------+\n",
            "|     Alaa Abdelnaby|        1991|      1995|     F-C|  6-10| 240.0|1968-06-24|                Duke|https://www.baske...|            |         4|              23|            27|\n",
            "|    Zaid Abdul-Aziz|        1969|      1978|     C-F|   6-9| 235.0|1946-04-07|          Iowa State|                null|            |         9|              23|            32|\n",
            "|Kareem Abdul-Jabbar|        1970|      1989|       C|   7-2| 225.0|1947-04-16|                UCLA|https://www.baske...|         Yes|        19|              23|            42|\n",
            "| Mahmoud Abdul-Rauf|        1991|      2001|       G|   6-1| 162.0|1969-03-09|                 LSU|                null|            |        10|              22|            32|\n",
            "|  Tariq Abdul-Wahad|        1998|      2003|       F|   6-6| 223.0|1974-11-03|Michigan, San Jos...|                null|            |         5|              24|            29|\n",
            "|Shareef Abdur-Rahim|        1997|      2008|       F|   6-9| 225.0|1976-12-11|          California|https://www.baske...|            |        11|              21|            32|\n",
            "|      Tom Abernethy|        1977|      1981|       F|   6-7| 220.0|1954-05-06|             Indiana|                null|            |         4|              23|            27|\n",
            "|        Forest Able|        1957|      1957|       G|   6-3| 180.0|1932-07-27|    Western Kentucky|                null|            |         0|              25|            25|\n",
            "|     John Abramovic|        1947|      1948|       F|   6-3| 195.0|1919-02-09|    Salem University|                null|            |         1|              28|            29|\n",
            "|       Álex Abrines|        2017|      2019|     G-F|   6-6| 200.0|1993-08-01|                null|https://www.baske...|            |         2|              24|            26|\n",
            "|   Precious Achiuwa|        2021|      2022|       F|   6-8| 225.0|1999-09-19|             Memphis|https://www.baske...|            |         1|              22|            23|\n",
            "|         Alex Acker|        2006|      2009|       G|   6-5| 185.0|1983-01-21|          Pepperdine|                null|            |         3|              23|            26|\n",
            "|       Don Ackerman|        1954|      1954|       G|   6-0| 183.0|1930-09-04|Long Island Unive...|                null|            |         0|              24|            24|\n",
            "|         Mark Acres|        1988|      1993|     F-C|  6-11| 220.0|1962-11-15|        Oral Roberts|                null|            |         5|              26|            31|\n",
            "|          Bud Acton|        1968|      1968|       F|   6-6| 210.0|1942-01-11|   Hillsdale College|                null|            |         0|              26|            26|\n",
            "|         Quincy Acy|        2013|      2019|     F-C|   6-7| 240.0|1990-10-06|              Baylor|https://www.baske...|            |         6|              23|            29|\n",
            "|        Alvan Adams|        1976|      1988|     C-F|   6-9| 210.0|1954-07-19|            Oklahoma|https://www.baske...|            |        12|              22|            34|\n",
            "|          Don Adams|        1971|      1977|       F|   6-6| 210.0|1947-11-27|        Northwestern|                null|            |         6|              24|            30|\n",
            "|       George Adams|        1973|      1975|     F-G|   6-5| 210.0|1949-05-15|Gardner-Webb Univ...|                null|            |         2|              24|            26|\n",
            "|       Hassan Adams|        2007|      2009|       G|   6-4| 220.0|1984-06-20|             Arizona|                null|            |         2|              23|            25|\n",
            "+-------------------+------------+----------+--------+------+------+----------+--------------------+--------------------+------------+----------+----------------+--------------+\n",
            "only showing top 20 rows\n",
            "\n"
          ]
        }
      ]
    },
    {
      "cell_type": "code",
      "source": [
        "players_df.count(), len(players_df.columns)"
      ],
      "metadata": {
        "colab": {
          "base_uri": "https://localhost:8080/"
        },
        "id": "XwJvjeOaf_9m",
        "outputId": "f6db370e-5081-4da3-f379-4ae6d438fc82"
      },
      "execution_count": null,
      "outputs": [
        {
          "output_type": "execute_result",
          "data": {
            "text/plain": [
              "(5023, 13)"
            ]
          },
          "metadata": {},
          "execution_count": 32
        }
      ]
    },
    {
      "cell_type": "code",
      "source": [
        "print(len(player_dup))\n",
        "players_df.filter(players_df.player_name.isin(player_dup)).sort('player_name').show(100)"
      ],
      "metadata": {
        "colab": {
          "base_uri": "https://localhost:8080/"
        },
        "id": "09v4HALMBt68",
        "outputId": "c92b1c95-dd9a-4d88-a17b-7398e4b2d1dc"
      },
      "execution_count": null,
      "outputs": [
        {
          "output_type": "stream",
          "name": "stdout",
          "text": [
            "44\n",
            "+----------------+------------+----------+--------+------+------+----------+--------------------+--------------------+------------+----------+----------------+--------------+\n",
            "|     player_name|start_career|end_career|position|height|weight|birth_date|            Colleges|             img_url|hall_of_fame|experience|career_start_age|career_end_age|\n",
            "+----------------+------------+----------+--------+------+------+----------+--------------------+--------------------+------------+----------+----------------+--------------+\n",
            "|    Bill Bradley|        1968|      1968|       G|  5-11| 165.0|1941-06-16|                null|https://www.baske...|            |         0|              27|            27|\n",
            "|    Bill Bradley|        1968|      1977|     F-G|   6-5| 205.0|1943-07-28|           Princeton|                null|         Yes|         9|              25|            34|\n",
            "|       Bob Duffy|        1947|      1947|       F|   6-4| 175.0|1922-07-05|              Tulane|                null|            |         0|              25|            25|\n",
            "|       Bob Duffy|        1963|      1965|       G|   6-3| 185.0|1940-09-26|             Colgate|                null|            |         2|              23|            25|\n",
            "|     Bobby Jones|        1975|      1986|       F|   6-9| 210.0|1951-12-18|                 UNC|https://www.baske...|         Yes|        11|              24|            35|\n",
            "|     Bobby Jones|        2007|      2008|       F|   6-7| 215.0|1984-01-09|          Washington|                null|            |         1|              23|            24|\n",
            "|    Bobby Wilson|        1975|      1978|       G|   6-3| 175.0|1951-01-15|       Wichita State|                null|            |         3|              24|            27|\n",
            "|    Bobby Wilson|        1968|      1968|       F|   6-8| 215.0|      null|              Kansas|                null|            |         0|            null|          null|\n",
            "|Brandon Williams|        1998|      2003|       G|   6-6| 215.0|1975-02-27|            Davidson|https://www.baske...|            |         5|              23|            28|\n",
            "|Brandon Williams|        2022|      2022|       G|   6-2| 190.0|1999-11-22|             Arizona|                null|            |         0|              23|            23|\n",
            "|Cedric Henderson|        1998|      2002|       F|   6-7| 215.0|1975-03-11|             Memphis|                null|            |         4|              23|            27|\n",
            "|Cedric Henderson|        1987|      1987|       F|   6-8| 210.0|1965-10-03|             Georgia|                null|            |         0|              22|            22|\n",
            "|   Charles Jones|        1985|      1989|       F|   6-8| 215.0|1962-01-12|          Louisville|                null|            |         4|              23|            27|\n",
            "|   Charles Jones|        1999|      2000|       G|   6-3| 180.0|1975-07-17|Rutgers Universit...|                null|            |         1|              24|            25|\n",
            "|   Charles Jones|        1984|      1998|     F-C|   6-9| 215.0|1957-04-03|Albany State Univ...|                null|            |        14|              27|            41|\n",
            "|   Charles Smith|        1990|      1996|       G|   6-1| 160.0|1967-11-29|          Georgetown|                null|            |         6|              23|            29|\n",
            "|   Charles Smith|        1998|      2006|       G|   6-4| 194.0|1975-08-22|          New Mexico|                null|            |         8|              23|            31|\n",
            "|   Charles Smith|        1989|      1997|     F-C|  6-10| 230.0|1965-07-16|                Pitt|https://www.baske...|            |         8|              24|            32|\n",
            "|   Chris Johnson|        2013|      2016|     F-G|   6-6| 206.0|1990-04-29|              Dayton|https://www.baske...|            |         3|              23|            26|\n",
            "|   Chris Johnson|        2011|      2013|       C|  6-11| 210.0|1985-07-15|                 LSU|https://www.baske...|            |         2|              26|            28|\n",
            "|     Chris Smith|        1993|      1995|       G|   6-3| 190.0|1970-05-17|               UConn|                null|            |         2|              23|            25|\n",
            "|     Chris Smith|        2014|      2014|       G|   6-2| 200.0|1987-10-13|Manhattan College...|https://www.baske...|            |         0|              27|            27|\n",
            "|    Chris Wright|        2012|      2014|       F|   6-8| 226.0|1988-09-30|              Dayton|https://www.baske...|            |         2|              24|            26|\n",
            "|    Chris Wright|        2013|      2013|       G|   6-1| 210.0|1989-11-04|          Georgetown|https://www.baske...|            |         0|              24|            24|\n",
            "|    Dan Anderson|        1975|      1976|       G|   6-2| 185.0|1951-01-01|                 USC|https://www.baske...|            |         1|              24|            25|\n",
            "|    Dan Anderson|        1968|      1969|       C|  6-10| 230.0|1943-02-15|    Augsburg College|                null|            |         1|              25|            26|\n",
            "|       David Lee|        1968|      1969|       F|   6-7| 225.0|1942-03-31|       San Francisco|https://www.baske...|            |         1|              26|            27|\n",
            "|       David Lee|        2006|      2017|       F|   6-9| 245.0|1983-04-29|             Florida|https://www.baske...|            |        11|              23|            34|\n",
            "|    David Vaughn|        1996|      1999|       F|   6-9| 240.0|1973-03-23|             Memphis|https://www.baske...|            |         3|              23|            26|\n",
            "|    David Vaughn|        1975|      1976|       C|  6-11| 220.0|1952-06-04|        Oral Roberts|                null|            |         1|              23|            24|\n",
            "|       Dee Brown|        1991|      2002|       G|   6-1| 160.0|1968-11-29|Jacksonville Univ...|                null|            |        11|              23|            34|\n",
            "|       Dee Brown|        2007|      2009|       G|   6-0| 185.0|1984-08-17|            Illinois|                null|            |         2|              23|            25|\n",
            "|       Don Smith|        1975|      1975|       G|   6-0| 160.0|1951-10-10|              Dayton|                null|            |         0|              24|            24|\n",
            "|       Don Smith|        1949|      1949|     G-F|   6-2| 190.0|1920-07-27|           Minnesota|                null|            |         0|              29|            29|\n",
            "|   Eddie Johnson|        1978|      1987|       G|   6-2| 180.0|1955-02-24|              Auburn|https://www.baske...|            |         9|              23|            32|\n",
            "|   Eddie Johnson|        1982|      1999|     F-G|   6-7| 215.0|1959-05-01|            Illinois|https://www.baske...|            |        17|              23|            40|\n",
            "|   Freddie Lewis|        1967|      1977|       G|   6-0| 175.0|1943-07-01|       Arizona State|https://www.baske...|            |        10|              24|            34|\n",
            "|   Freddie Lewis|        1949|      1950|     F-G|   6-2| 195.0|1921-01-06|Eastern Kentucky ...|                null|            |         1|              28|            29|\n",
            "|  George Johnson|        1973|      1986|     C-F|  6-11| 205.0|1948-12-18|  Dillard University|                null|            |        13|              25|            38|\n",
            "|  George Johnson|        1979|      1986|     F-C|   6-7| 210.0|1956-12-08|          St. John's|                null|            |         7|              23|            30|\n",
            "|  George Johnson|        1971|      1974|       C|  6-11| 245.0|1947-06-19|   Stephen F. Austin|                null|            |         3|              24|            27|\n",
            "|     George King|        1952|      1958|       G|   6-0| 175.0|1928-08-16|University of Cha...|https://www.baske...|            |         6|              24|            30|\n",
            "|     George King|        2019|      2022|     G-F|   6-6| 225.0|1994-01-15|            Colorado|                null|            |         3|              25|            28|\n",
            "|Gerald Henderson|        2010|      2017|       G|   6-5| 215.0|1987-12-09|                Duke|https://www.baske...|            |         7|              23|            30|\n",
            "|Gerald Henderson|        1980|      1992|       G|   6-2| 175.0|1956-01-16|                 VCU|                null|            |        12|              24|            36|\n",
            "|      Greg Smith|        1969|      1976|       F|   6-5| 195.0|1947-01-28|    Western Kentucky|                null|            |         7|              22|            29|\n",
            "|      Greg Smith|        2012|      2016|       C|  6-10| 250.0|1991-01-08|        Fresno State|https://www.baske...|            |         4|              21|            25|\n",
            "|     Jack Turner|        1962|      1962|     G-F|   6-5| 200.0|1939-06-05|          Louisville|                null|            |         0|              23|            23|\n",
            "|     Jack Turner|        1955|      1955|     F-G|   6-4| 170.0|1930-06-29|    Western Kentucky|                null|            |         0|              25|            25|\n",
            "|     Jeff Taylor|        1983|      1987|       G|   6-4| 175.0|1960-01-01|          Texas Tech|                null|            |         4|              23|            27|\n",
            "|     Jeff Taylor|        2013|      2015|       F|   6-7| 225.0|1989-05-23|          Vanderbilt|https://www.baske...|            |         2|              24|            26|\n",
            "|      Jim Paxson|        1957|      1958|     F-G|   6-6| 200.0|1932-12-19|              Dayton|                null|            |         1|              25|            26|\n",
            "|      Jim Paxson|        1980|      1990|     G-F|   6-6| 200.0|1957-07-09|              Dayton|https://www.baske...|            |        10|              23|            33|\n",
            "|     Ken Johnson|        1986|      1986|       F|   6-8| 240.0|1962-11-07| USC, Michigan State|https://www.baske...|            |         0|              24|            24|\n",
            "|     Ken Johnson|        2003|      2003|     F-C|  6-11| 240.0|1978-02-01|          Ohio State|                null|            |         0|              25|            25|\n",
            "|   Larry Johnson|        1992|      2001|       F|   6-6| 250.0|1969-03-14|                UNLV|https://www.baske...|            |         9|              23|            32|\n",
            "|   Larry Johnson|        1978|      1978|       G|   6-3| 205.0|1954-11-28|            Kentucky|                null|            |         0|              24|            24|\n",
            "|    Luke Jackson|        1965|      1972|     F-C|   6-9| 240.0|1941-10-31|University of Tex...|                null|            |         7|              24|            31|\n",
            "|    Luke Jackson|        2005|      2008|       F|   6-7| 215.0|1981-11-06|              Oregon|https://www.baske...|            |         3|              24|            27|\n",
            "| Marcus Williams|        2007|      2010|       G|   6-3| 205.0|1985-12-03|               UConn|https://www.baske...|            |         3|              22|            25|\n",
            "| Marcus Williams|        2008|      2009|       F|   6-7| 205.0|1986-11-18|             Arizona|https://www.baske...|            |         1|              22|            23|\n",
            "|      Mark Davis|        1996|      2000|     G-F|   6-7| 210.0|1973-04-26|Howard College, T...|                null|            |         4|              23|            27|\n",
            "|      Mark Davis|        1989|      1989|     F-G|   6-6| 195.0|1963-06-08|        Old Dominion|                null|            |         0|              26|            26|\n",
            "|      Mark Jones|        2005|      2005|       G|   6-6| 215.0|1975-05-25|Minnesota, Centra...|                null|            |         0|              30|            30|\n",
            "|      Mark Jones|        1984|      1984|       G|   6-1| 175.0|1961-04-10|     St. Bonaventure|                null|            |         0|              23|            23|\n",
            "|     Matt Guokas|        1947|      1947|       F|   6-3| 195.0|1915-11-11|      Saint Joseph's|                null|            |         0|              32|            32|\n",
            "|     Matt Guokas|        1967|      1976|     G-F|   6-5| 175.0|1944-02-25|      Saint Joseph's|                null|            |         9|              23|            32|\n",
            "|   Michael Smith|        1995|      2001|       F|   6-8| 230.0|1972-03-28|          Providence|                null|            |         6|              23|            29|\n",
            "|   Michael Smith|        1990|      1995|       F|  6-10| 225.0|1965-05-19|                 BYU|                null|            |         5|              25|            30|\n",
            "|      Mike Davis|        1970|      1973|       G|   6-3| 185.0|1946-07-26|Virginia Union Un...|                null|            |         3|              24|            27|\n",
            "|      Mike Davis|        1983|      1983|       F|  6-10| 230.0|1956-08-02|            Maryland|                null|            |         0|              27|            27|\n",
            "|   Mike Dunleavy|        2003|      2017|     F-G|   6-9| 230.0|1980-09-15|                Duke|https://www.baske...|            |        14|              23|            37|\n",
            "|   Mike Dunleavy|        1977|      1990|       G|   6-3| 180.0|1954-03-21|      South Carolina|                null|            |        13|              23|            36|\n",
            "|      Mike James|        2002|      2014|       G|   6-2| 188.0|1975-06-23|            Duquesne|https://www.baske...|            |        12|              27|            39|\n",
            "|      Mike James|        2018|      2021|       G|   6-1| 189.0|1990-08-18|               Lamar|https://www.baske...|            |         3|              28|            31|\n",
            "|   Patrick Ewing|        1986|      2002|     C-F|   7-0| 240.0|1962-08-05|          Georgetown|https://www.baske...|         Yes|        16|              24|            40|\n",
            "|   Patrick Ewing|        2011|      2011|       F|   6-8| 235.0|1984-05-20| Indiana, Georgetown|https://www.baske...|            |         0|              27|            27|\n",
            "| Reggie Williams|        1988|      1997|     F-G|   6-7| 190.0|1964-03-05|          Georgetown|https://www.baske...|            |         9|              24|            33|\n",
            "| Reggie Williams|        2010|      2017|       F|   6-6| 205.0|1986-09-14|Virginia Military...|https://www.baske...|            |         7|              24|            31|\n",
            "|     Roger Brown|        1973|      1980|       C|  6-11| 225.0|1950-02-23|              Kansas|                null|            |         7|              23|            30|\n",
            "|     Roger Brown|        1968|      1975|     F-G|   6-5| 205.0|1942-05-22|              Dayton|https://www.baske...|         Yes|         7|              26|            33|\n",
            "|       Sam Smith|        1968|      1971|       F|   6-7| 230.0|1944-01-27|Kentucky Wesleyan...|                null|            |         3|              24|            27|\n",
            "|       Sam Smith|        1979|      1980|       G|   6-4| 200.0|1955-01-08|                UNLV|                null|            |         1|              24|            25|\n",
            "|    Sam Williams|        1982|      1985|       F|   6-8| 210.0|1959-03-07|       Arizona State|                null|            |         3|              23|            26|\n",
            "|    Sam Williams|        1969|      1970|       G|   6-3| 180.0|1945-01-22|                Iowa|                null|            |         1|              24|            25|\n",
            "|    Tony Jackson|        1968|      1969|     F-G|   6-4| 200.0|1942-11-07|          St. John's|                null|            |         1|              26|            27|\n",
            "|    Tony Jackson|        1981|      1981|       G|   6-0| 170.0|1958-01-17|       Florida State|                null|            |         0|              23|            23|\n",
            "|   Tony Mitchell|        2014|      2014|       F|   6-6| 216.0|1989-08-07|             Alabama|https://www.baske...|            |         0|              25|            25|\n",
            "|   Tony Mitchell|        2014|      2014|       F|   6-8| 235.0|1992-04-07|University of Nor...|https://www.baske...|            |         0|              22|            22|\n",
            "|  Walker Russell|        1983|      1988|       G|   6-5| 195.0|1960-10-26|Houston, Western ...|                null|            |         5|              23|            28|\n",
            "|  Walker Russell|        2012|      2012|       G|   6-0| 170.0|1982-10-06|Jacksonville Stat...|https://www.baske...|            |         0|              30|            30|\n",
            "+----------------+------------+----------+--------+------+------+----------+--------------------+--------------------+------------+----------+----------------+--------------+\n",
            "\n"
          ]
        }
      ]
    },
    {
      "cell_type": "code",
      "source": [
        "scores_df = spark.read\\\n",
        "                .option(\"header\", \"true\")\\\n",
        "                .csv(\"/content/drive/MyDrive/NBA_Scrape/data/boxscores/*\", inferSchema=True)"
      ],
      "metadata": {
        "id": "JiJyLKdzRV_i"
      },
      "execution_count": null,
      "outputs": []
    },
    {
      "cell_type": "code",
      "source": [
        "scores_df.count(), len(scores_df.columns)"
      ],
      "metadata": {
        "colab": {
          "base_uri": "https://localhost:8080/"
        },
        "id": "6kRJNu29RVwt",
        "outputId": "ec391d12-cc98-4079-ae4e-6b46f301ff0e"
      },
      "execution_count": null,
      "outputs": [
        {
          "output_type": "execute_result",
          "data": {
            "text/plain": [
              "(791476, 21)"
            ]
          },
          "metadata": {},
          "execution_count": 38
        }
      ]
    },
    {
      "cell_type": "code",
      "source": [
        "scores_df.printSchema()"
      ],
      "metadata": {
        "colab": {
          "base_uri": "https://localhost:8080/"
        },
        "id": "JzrJipWHRVjk",
        "outputId": "b7b167b2-60f9-4906-c21f-a1b7e93b8bdd"
      },
      "execution_count": null,
      "outputs": [
        {
          "output_type": "stream",
          "name": "stdout",
          "text": [
            "root\n",
            " |-- game_id: string (nullable = true)\n",
            " |-- teamName: string (nullable = true)\n",
            " |-- playerName: string (nullable = true)\n",
            " |-- MP: string (nullable = true)\n",
            " |-- FG: string (nullable = true)\n",
            " |-- FGA: string (nullable = true)\n",
            " |-- 3P: string (nullable = true)\n",
            " |-- 3PA: string (nullable = true)\n",
            " |-- FT: string (nullable = true)\n",
            " |-- FTA: string (nullable = true)\n",
            " |-- ORB: string (nullable = true)\n",
            " |-- DRB: string (nullable = true)\n",
            " |-- TRB: string (nullable = true)\n",
            " |-- AST: string (nullable = true)\n",
            " |-- STL: string (nullable = true)\n",
            " |-- BLK: string (nullable = true)\n",
            " |-- TOV: string (nullable = true)\n",
            " |-- PF: string (nullable = true)\n",
            " |-- PTS: string (nullable = true)\n",
            " |-- +/-: string (nullable = true)\n",
            " |-- isStarter: integer (nullable = true)\n",
            "\n"
          ]
        }
      ]
    },
    {
      "cell_type": "code",
      "source": [
        "scores_df.show(5)"
      ],
      "metadata": {
        "colab": {
          "base_uri": "https://localhost:8080/"
        },
        "id": "66NQvOwKRVMa",
        "outputId": "69643f37-48ec-446f-810f-33fd115a0691"
      },
      "execution_count": null,
      "outputs": [
        {
          "output_type": "stream",
          "name": "stdout",
          "text": [
            "+--------------------+-------------+----------------+-----+---+---+---+---+---+---+---+---+---+---+---+---+---+---+---+---+---------+\n",
            "|             game_id|     teamName|      playerName|   MP| FG|FGA| 3P|3PA| FT|FTA|ORB|DRB|TRB|AST|STL|BLK|TOV| PF|PTS|+/-|isStarter|\n",
            "+--------------------+-------------+----------------+-----+---+---+---+---+---+---+---+---+---+---+---+---+---+---+---+---+---------+\n",
            "|cbfc245675834b09a...|Orlando Magic|   Arron Afflalo|32:59|  3| 14|  1|  5|  2|  3|  1|  2|  3|  1|  0|  0|  1|  1|  9|-14|        1|\n",
            "|cbfc245675834b09a...|Orlando Magic|  Nikola Vučević|30:39|  4| 11|  0|  0|  0|  0|  5|  5| 10|  3|  2|  1|  5|  4|  8|-22|        1|\n",
            "|cbfc245675834b09a...|Orlando Magic|   Jameer Nelson|30:34|  4| 13|  3|  7|  1|  1|  1|  4|  5|  7|  2|  0|  2|  1| 12|-11|        1|\n",
            "|cbfc245675834b09a...|Orlando Magic|   Jason Maxiell|26:19|  0|  5|  0|  0|  0|  0|  1|  4|  5|  0|  1|  2|  2|  2|  0|-15|        1|\n",
            "|cbfc245675834b09a...|Orlando Magic|Maurice Harkless|23:30|  6| 13|  2|  2|  0|  1|  1|  0|  1|  0|  1|  0|  0|  4| 14| -3|        1|\n",
            "+--------------------+-------------+----------------+-----+---+---+---+---+---+---+---+---+---+---+---+---+---+---+---+---+---------+\n",
            "only showing top 5 rows\n",
            "\n"
          ]
        }
      ]
    },
    {
      "cell_type": "markdown",
      "source": [
        "#### Filter out values"
      ],
      "metadata": {
        "id": "ZOkr0D3MwL31"
      }
    },
    {
      "cell_type": "code",
      "source": [
        "filter_values = [\n",
        "        \"Did Not Dress\", \n",
        "        \"Player Suspended\",\n",
        "        \"Did Not Play\", \n",
        "        \"Not With Team\"\n",
        "    ]"
      ],
      "metadata": {
        "id": "WRmUP7E6Rkqp"
      },
      "execution_count": null,
      "outputs": []
    },
    {
      "cell_type": "markdown",
      "source": [
        "#### Convert columns datatypes"
      ],
      "metadata": {
        "id": "ONbV-4g8wU3i"
      }
    },
    {
      "cell_type": "code",
      "source": [
        "import regex\n",
        "import text_unidecode\n",
        "import re\n",
        "import unicodedata"
      ],
      "metadata": {
        "id": "19p4BVk2Swb_"
      },
      "execution_count": null,
      "outputs": []
    },
    {
      "cell_type": "code",
      "source": [
        "def remove_accent_chars_regex(x: str):\n",
        "    translationTable = str.maketrans(\"ğĞıİöÖüÜşŞçÇß\", \"gGiIoOuUsScCs\")\n",
        "    x = re.sub(r'[^\\w\\s]', '', x.translate(translationTable))\n",
        "    return regex.sub(r'\\p{Mn}', '', unicodedata.normalize('NFKD', x))\n",
        "\n",
        "player_name_udf = F.udf(remove_accent_chars_regex, returnType=types.StringType())"
      ],
      "metadata": {
        "id": "tblWlr6ASjZq"
      },
      "execution_count": null,
      "outputs": []
    },
    {
      "cell_type": "code",
      "source": [
        "scores_df = scores_df\\\n",
        "              .filter(~scores_df.MP.isin(filter_values))\\\n",
        "              .withColumn('FG', F.col('FG').cast(types.IntegerType()))\\\n",
        "              .withColumn('FGA', F.col('FGA').cast(types.IntegerType()))\\\n",
        "              .withColumn('3P', F.col('3P').cast(types.IntegerType()))\\\n",
        "              .withColumn('3PA', F.col('3PA').cast(types.IntegerType()))\\\n",
        "              .withColumn('FT', F.col('FT').cast(types.IntegerType()))\\\n",
        "              .withColumn('FTA', F.col('FTA').cast(types.IntegerType()))\\\n",
        "              .withColumn('ORB', F.col('ORB').cast(types.IntegerType()))\\\n",
        "              .withColumn('DRB', F.col('DRB').cast(types.IntegerType()))\\\n",
        "              .withColumn('TRB', F.col('TRB').cast(types.IntegerType()))\\\n",
        "              .withColumn('AST', F.col('AST').cast(types.IntegerType()))\\\n",
        "              .withColumn('STL', F.col('STL').cast(types.IntegerType()))\\\n",
        "              .withColumn('BLK', F.col('BLK').cast(types.IntegerType()))\\\n",
        "              .withColumn('TOV', F.col('TOV').cast(types.IntegerType()))\\\n",
        "              .withColumn('PF', F.col('PF').cast(types.IntegerType()))\\\n",
        "              .withColumn('PTS', F.col('PTS').cast(types.IntegerType()))\\\n",
        "              .withColumn('+/-', F.col('+/-').cast(types.IntegerType()))\\\n",
        "              .withColumn('minutes_played', F.round(F.split(F.col('MP'), \":\")[0]+F.split(F.col('MP'), \":\")[1]/60, 2))\\\n",
        "              .withColumn('playerName', player_name_udf(F.col('playerName')))\\\n",
        "              .withColumnRenamed('teamName', 'team_name')\\\n",
        "              .withColumnRenamed('playerName', 'player_name')\\\n",
        "              .withColumnRenamed('+/-', 'plus_minus')\\\n",
        "              .select(['game_id', 'team_name', 'player_name', 'minutes_played', 'FG', 'FGA', '3P',\n",
        "                       '3PA', 'FT', 'FTA', 'ORB', 'DRB', 'TRB', 'AST', 'STL', 'BLK',\n",
        "                        'TOV', 'PF', 'PTS', 'plus_minus', 'isStarter'])"
      ],
      "metadata": {
        "id": "7XuTGCa6RknD"
      },
      "execution_count": null,
      "outputs": []
    },
    {
      "cell_type": "code",
      "source": [
        "scores_df.show(5)"
      ],
      "metadata": {
        "colab": {
          "base_uri": "https://localhost:8080/"
        },
        "id": "YKo4_OGYSMTH",
        "outputId": "c7baec77-239b-4648-8850-975e998c99ff"
      },
      "execution_count": null,
      "outputs": [
        {
          "output_type": "stream",
          "name": "stdout",
          "text": [
            "+--------------------+-------------+----------------+--------------+---+---+---+---+---+---+---+---+---+---+---+---+---+---+---+----------+---------+\n",
            "|             game_id|    team_name|     player_name|minutes_played| FG|FGA| 3P|3PA| FT|FTA|ORB|DRB|TRB|AST|STL|BLK|TOV| PF|PTS|plus_minus|isStarter|\n",
            "+--------------------+-------------+----------------+--------------+---+---+---+---+---+---+---+---+---+---+---+---+---+---+---+----------+---------+\n",
            "|cbfc245675834b09a...|Orlando Magic|   Arron Afflalo|         32.98|  3| 14|  1|  5|  2|  3|  1|  2|  3|  1|  0|  0|  1|  1|  9|       -14|        1|\n",
            "|cbfc245675834b09a...|Orlando Magic|  Nikola Vucevic|         30.65|  4| 11|  0|  0|  0|  0|  5|  5| 10|  3|  2|  1|  5|  4|  8|       -22|        1|\n",
            "|cbfc245675834b09a...|Orlando Magic|   Jameer Nelson|         30.57|  4| 13|  3|  7|  1|  1|  1|  4|  5|  7|  2|  0|  2|  1| 12|       -11|        1|\n",
            "|cbfc245675834b09a...|Orlando Magic|   Jason Maxiell|         26.32|  0|  5|  0|  0|  0|  0|  1|  4|  5|  0|  1|  2|  2|  2|  0|       -15|        1|\n",
            "|cbfc245675834b09a...|Orlando Magic|Maurice Harkless|          23.5|  6| 13|  2|  2|  0|  1|  1|  0|  1|  0|  1|  0|  0|  4| 14|        -3|        1|\n",
            "+--------------------+-------------+----------------+--------------+---+---+---+---+---+---+---+---+---+---+---+---+---+---+---+----------+---------+\n",
            "only showing top 5 rows\n",
            "\n"
          ]
        }
      ]
    },
    {
      "cell_type": "code",
      "source": [
        "scores_df.printSchema()"
      ],
      "metadata": {
        "colab": {
          "base_uri": "https://localhost:8080/"
        },
        "id": "M1cEHX7DRkjb",
        "outputId": "d6fbc3cf-0b8f-4d40-9b89-7c1ffe99ffbf"
      },
      "execution_count": null,
      "outputs": [
        {
          "output_type": "stream",
          "name": "stdout",
          "text": [
            "root\n",
            " |-- game_id: string (nullable = true)\n",
            " |-- team_name: string (nullable = true)\n",
            " |-- player_name: string (nullable = true)\n",
            " |-- minutes_played: double (nullable = true)\n",
            " |-- FG: integer (nullable = true)\n",
            " |-- FGA: integer (nullable = true)\n",
            " |-- 3P: integer (nullable = true)\n",
            " |-- 3PA: integer (nullable = true)\n",
            " |-- FT: integer (nullable = true)\n",
            " |-- FTA: integer (nullable = true)\n",
            " |-- ORB: integer (nullable = true)\n",
            " |-- DRB: integer (nullable = true)\n",
            " |-- TRB: integer (nullable = true)\n",
            " |-- AST: integer (nullable = true)\n",
            " |-- STL: integer (nullable = true)\n",
            " |-- BLK: integer (nullable = true)\n",
            " |-- TOV: integer (nullable = true)\n",
            " |-- PF: integer (nullable = true)\n",
            " |-- PTS: integer (nullable = true)\n",
            " |-- plus_minus: integer (nullable = true)\n",
            " |-- isStarter: integer (nullable = true)\n",
            "\n"
          ]
        }
      ]
    },
    {
      "cell_type": "code",
      "source": [
        "players_df.createOrReplaceTempView('players')\n",
        "salary_df.createOrReplaceTempView('salary')"
      ],
      "metadata": {
        "id": "fGFEEHVJ-Ldh"
      },
      "execution_count": null,
      "outputs": []
    },
    {
      "cell_type": "code",
      "source": [
        "scores_df.createOrReplaceTempView('scores')\n",
        "games_df.createOrReplaceTempView('games')"
      ],
      "metadata": {
        "id": "_BSbOTL-Rj2n"
      },
      "execution_count": null,
      "outputs": []
    },
    {
      "cell_type": "code",
      "source": [
        "players_df.filter(F.col('player_name') == \"Aaron Brooks\").show()"
      ],
      "metadata": {
        "colab": {
          "base_uri": "https://localhost:8080/"
        },
        "id": "Se_a_uLQo0d_",
        "outputId": "77dcc840-7fe2-4d56-83ac-95cba9843646"
      },
      "execution_count": null,
      "outputs": [
        {
          "output_type": "stream",
          "name": "stdout",
          "text": [
            "+------------+------------+----------+--------+------+------+----------+--------+--------------------+------------+----------+----------------+--------------+\n",
            "| player_name|start_career|end_career|position|height|weight|birth_date|Colleges|             img_url|hall_of_fame|experience|career_start_age|career_end_age|\n",
            "+------------+------------+----------+--------+------+------+----------+--------+--------------------+------------+----------+----------------+--------------+\n",
            "|Aaron Brooks|        2008|      2018|       G|   6-0| 161.0|1985-01-14|  Oregon|https://www.baske...|            |        10|              23|            33|\n",
            "+------------+------------+----------+--------+------+------+----------+--------+--------------------+------------+----------+----------------+--------------+\n",
            "\n"
          ]
        }
      ]
    },
    {
      "cell_type": "code",
      "source": [
        "scores_df.count()"
      ],
      "metadata": {
        "colab": {
          "base_uri": "https://localhost:8080/"
        },
        "id": "xH5JNkaoGDj4",
        "outputId": "ff78ebfe-db28-4c09-c0d9-98081930a6a6"
      },
      "execution_count": null,
      "outputs": [
        {
          "output_type": "execute_result",
          "data": {
            "text/plain": [
              "661825"
            ]
          },
          "metadata": {},
          "execution_count": 51
        }
      ]
    },
    {
      "cell_type": "code",
      "source": [
        "spark.sql(\n",
        "    \"\"\"\n",
        "    SELECT *\n",
        "      FROM games\n",
        "      JOIN scores\n",
        "      USING(game_id)\n",
        "    \"\"\"\n",
        ").show(3)"
      ],
      "metadata": {
        "colab": {
          "base_uri": "https://localhost:8080/"
        },
        "id": "SqrS7w_8WGj8",
        "outputId": "ba94e88c-3cc5-4709-f45f-8a9063f4482e"
      },
      "execution_count": null,
      "outputs": [
        {
          "output_type": "stream",
          "name": "stdout",
          "text": [
            "+--------------------+---------------+-------------+----------+--------------+----------+----------+-----+-------+----------+---------+-------------+--------------+--------------+---+---+---+---+---+---+---+---+---+---+---+---+---+---+---+----------+---------+\n",
            "|             game_id|seasonStartYear|     awayTeam|pointsAway|      homeTeam|pointsHome|attendance|notes|startET|  datetime|isRegular|    team_name|   player_name|minutes_played| FG|FGA| 3P|3PA| FT|FTA|ORB|DRB|TRB|AST|STL|BLK|TOV| PF|PTS|plus_minus|isStarter|\n",
            "+--------------------+---------------+-------------+----------+--------------+----------+----------+-----+-------+----------+---------+-------------+--------------+--------------+---+---+---+---+---+---+---+---+---+---+---+---+---+---+---+----------+---------+\n",
            "|cbfc245675834b09a...|           2013|Orlando Magic|        87|Indiana Pacers|        97|     18165| null|   null|2013-10-29|        1|Orlando Magic| Arron Afflalo|         32.98|  3| 14|  1|  5|  2|  3|  1|  2|  3|  1|  0|  0|  1|  1|  9|       -14|        1|\n",
            "|cbfc245675834b09a...|           2013|Orlando Magic|        87|Indiana Pacers|        97|     18165| null|   null|2013-10-29|        1|Orlando Magic|Nikola Vucevic|         30.65|  4| 11|  0|  0|  0|  0|  5|  5| 10|  3|  2|  1|  5|  4|  8|       -22|        1|\n",
            "|cbfc245675834b09a...|           2013|Orlando Magic|        87|Indiana Pacers|        97|     18165| null|   null|2013-10-29|        1|Orlando Magic| Jameer Nelson|         30.57|  4| 13|  3|  7|  1|  1|  1|  4|  5|  7|  2|  0|  2|  1| 12|       -11|        1|\n",
            "+--------------------+---------------+-------------+----------+--------------+----------+----------+-----+-------+----------+---------+-------------+--------------+--------------+---+---+---+---+---+---+---+---+---+---+---+---+---+---+---+----------+---------+\n",
            "only showing top 3 rows\n",
            "\n"
          ]
        }
      ]
    },
    {
      "cell_type": "code",
      "source": [
        "spark.sql(\n",
        "    \"\"\"\n",
        "    select * from players\n",
        "    \"\"\"\n",
        ").show(3)"
      ],
      "metadata": {
        "colab": {
          "base_uri": "https://localhost:8080/"
        },
        "id": "JOFDiBCjCFbS",
        "outputId": "6a1b1e1e-172d-4f6a-e8c0-642d72cb449e"
      },
      "execution_count": null,
      "outputs": [
        {
          "output_type": "stream",
          "name": "stdout",
          "text": [
            "+-------------------+------------+----------+--------+------+------+----------+----------+--------------------+------------+----------+----------------+--------------+\n",
            "|        player_name|start_career|end_career|position|height|weight|birth_date|  Colleges|             img_url|hall_of_fame|experience|career_start_age|career_end_age|\n",
            "+-------------------+------------+----------+--------+------+------+----------+----------+--------------------+------------+----------+----------------+--------------+\n",
            "|     Alaa Abdelnaby|        1991|      1995|     F-C|  6-10| 240.0|1968-06-24|      Duke|https://www.baske...|            |         4|              23|            27|\n",
            "|    Zaid Abdul-Aziz|        1969|      1978|     C-F|   6-9| 235.0|1946-04-07|Iowa State|                null|            |         9|              23|            32|\n",
            "|Kareem Abdul-Jabbar|        1970|      1989|       C|   7-2| 225.0|1947-04-16|      UCLA|https://www.baske...|         Yes|        19|              23|            42|\n",
            "+-------------------+------------+----------+--------+------+------+----------+----------+--------------------+------------+----------+----------------+--------------+\n",
            "only showing top 3 rows\n",
            "\n"
          ]
        }
      ]
    },
    {
      "cell_type": "code",
      "source": [
        "spark.sql(\n",
        "    \"\"\"\n",
        "    SELECT \n",
        "        *\n",
        "    FROM (\n",
        "      SELECT *\n",
        "      FROM games\n",
        "      JOIN scores\n",
        "      USING(game_id)\n",
        "      ) g\n",
        "    JOIN players p\n",
        "    ON g.player_name = p.player_name\n",
        "      AND (year(g.datetime) >= p.start_career AND year(g.datetime) <= p.end_career)\n",
        "    \"\"\"\n",
        ").count()"
      ],
      "metadata": {
        "colab": {
          "base_uri": "https://localhost:8080/"
        },
        "id": "_iUgo6O69gtp",
        "outputId": "d071d19a-d699-443d-a848-23b87ce0c2ab"
      },
      "execution_count": null,
      "outputs": [
        {
          "output_type": "execute_result",
          "data": {
            "text/plain": [
              "578628"
            ]
          },
          "metadata": {},
          "execution_count": 72
        }
      ]
    },
    {
      "cell_type": "code",
      "source": [
        "game_stat_yr = \\\n",
        "spark.sql(\"\"\"\n",
        "WITH join_scores AS (\n",
        "  SELECT \n",
        "        g.* -- , s.salary\n",
        "  FROM (\n",
        "    SELECT *\n",
        "    FROM games\n",
        "    JOIN scores\n",
        "    USING(game_id)\n",
        "    ) g/*\n",
        "  LEFT JOIN salary s\n",
        "  ON g.player_name = s.playerName\n",
        "    AND g.seasonStartYear = s.seasonStartYear*/\n",
        ")\n",
        "SELECT \n",
        "      concat(gs.seasonStartYear, \"-\", RIGHT(FLOOR(gs.seasonStartYear+1), 2)) AS season,\n",
        "      -- year(gs.datetime) as game_year,\n",
        "      gs.player_name,\n",
        "      gs.team_name,\n",
        "      -- year(gs.datetime) - year(p.birth_date) AS age,\n",
        "      p.birth_date,\n",
        "      -- gs.salary,\n",
        "      -- gs.isRegular,\n",
        "      -- gs.isStarter,\n",
        "      count(1) as game_played,\n",
        "      SUM(isStarter) AS game_started,\n",
        "      ROUND(SUM(gs.minutes_played)) AS minutes_played,\n",
        "      SUM(FG) AS FG, SUM(FGA) AS FGA,\n",
        "      SUM(3P) AS 3P, SUM(3PA) AS 3PA,\n",
        "      SUM(FT) AS FT, SUM(FTA) AS FTA,\n",
        "      SUM(ORB) AS ORB, SUM(DRB) AS DRB,\n",
        "      SUM(TRB) AS TRB, SUM(AST) AS AST,\n",
        "      SUM(STL) AS STL, SUM(BLK) AS BLK,\n",
        "      SUM(TOV) AS TOV, SUM(PF) AS PF,\n",
        "      SUM(PTS) AS PTS, AVG(plus_minus) AS plus_minus\n",
        "FROM (join_scores) gs\n",
        "JOIN players p\n",
        "  ON gs.player_name=p.player_name\n",
        "  AND (year(gs.datetime) >= p.start_career AND year(gs.datetime) <= p.end_career)\n",
        "GROUP BY\n",
        "      1, 2, 3, 4 -- , 5 -- , 6 -- , 7\n",
        "ORDER BY\n",
        "      2, 1\n",
        "\"\"\")"
      ],
      "metadata": {
        "id": "S0bK0D4n-0gd"
      },
      "execution_count": null,
      "outputs": []
    },
    {
      "cell_type": "code",
      "source": [
        "game_stat_yr.filter(game_stat_yr.player_name.isin(player_dup)).show(100)"
      ],
      "metadata": {
        "colab": {
          "base_uri": "https://localhost:8080/"
        },
        "id": "eAyIbTP3N_yK",
        "outputId": "eff8e6bd-ed75-4756-d781-b8a0d4b2de08"
      },
      "execution_count": null,
      "outputs": [
        {
          "output_type": "stream",
          "name": "stdout",
          "text": [
            "+-------+----------------+--------------------+----------+-----------+------------+--------------+---+----+---+---+---+---+---+---+---+---+---+---+---+---+----+--------------------+\n",
            "| season|     player_name|           team_name|birth_date|game_played|game_started|minutes_played| FG| FGA| 3P|3PA| FT|FTA|ORB|DRB|TRB|AST|STL|BLK|TOV| PF| PTS|          plus_minus|\n",
            "+-------+----------------+--------------------+----------+-----------+------------+--------------+---+----+---+---+---+---+---+---+---+---+---+---+---+---+----+--------------------+\n",
            "|2006-07|     Bobby Jones|  Philadelphia 76ers|1984-01-09|         31|           5|         261.0| 37|  81|  1|  8| 18| 29| 18| 26| 44| 13| 10|  0| 12| 41|  93|  1.3548387096774193|\n",
            "|2007-08|     Bobby Jones|     Houston Rockets|1984-01-09|          4|           0|           9.0|  2|   4|  0|  0|  0|  0|  0|  1|  1|  0|  1|  0|  1|  3|   4|                -1.0|\n",
            "|2007-08|     Bobby Jones|      Denver Nuggets|1984-01-09|         25|           0|         222.0| 26|  64|  9| 23| 23| 28| 11| 27| 38| 11|  5|  1| 14| 46|  84| -1.7083333333333333|\n",
            "|2007-08|     Bobby Jones|          Miami Heat|1984-01-09|          6|           0|         143.0| 17|  32|  6| 15|  8| 13|  8| 16| 24|  5|  2|  0|  7| 18|  48|  -4.333333333333333|\n",
            "|2007-08|     Bobby Jones|   San Antonio Spurs|1984-01-09|          3|           0|          20.0|  1|   4|  0|  2|  0|  0|  0|  2|  2|  1|  2|  0|  1|  1|   2| -2.3333333333333335|\n",
            "|2007-08|     Bobby Jones|   Memphis Grizzlies|1984-01-09|          9|           2|         137.0| 14|  36|  3| 13|  9| 10| 10| 17| 27| 11|  5|  2|  5| 17|  40|  0.4444444444444444|\n",
            "|1997-98|Brandon Williams|Golden State Warr...|1975-02-27|          9|           2|         140.0| 16|  50|  3|  9|  2|  4|  4| 11| 15|  3|  6|  3|  9| 18|  37| -0.7777777777777778|\n",
            "|1998-99|Brandon Williams|   San Antonio Spurs|1975-02-27|          3|           0|           4.0|  0|   0|  0|  0|  2|  4|  1|  0|  1|  0|  0|  0|  0|  0|   2| -1.3333333333333333|\n",
            "|2002-03|Brandon Williams|       Atlanta Hawks|1975-02-27|          6|           0|          20.0|  1|   7|  0|  1|  0|  0|  2|  0|  2|  0|  2|  0|  3|  4|   2|                -0.5|\n",
            "|2021-22|Brandon Williams|Portland Trail Bl...|1999-11-22|         22|          16|         628.0|103| 279| 31|106| 64| 90| 19| 53| 72| 92| 24| 10| 58| 52| 301| -13.272727272727273|\n",
            "|1997-98|Cedric Henderson| Cleveland Cavaliers|1975-03-11|         58|          57|        1966.0|257| 562|  0|  2|103|138| 48|200|248|130| 72| 37|127|173| 617| 0.39655172413793105|\n",
            "|1998-99|Cedric Henderson| Cleveland Cavaliers|1975-03-11|         50|          48|        1520.0|189| 453|  2| 12| 74| 91| 45|152|197|113| 58| 24| 97|136| 454|               -1.96|\n",
            "|1999-00|Cedric Henderson| Cleveland Cavaliers|1975-03-11|         61|           7|        1103.0|129| 326|  1| 15| 69|104| 34|106|140| 55| 39| 17| 68| 99| 328| -2.6065573770491803|\n",
            "|2000-01|Cedric Henderson| Cleveland Cavaliers|1975-03-11|         55|          10|         961.0|102| 262|  1|  8| 30| 46| 19| 71| 90| 79| 29| 23| 63|101| 235| -2.4363636363636365|\n",
            "|2001-02|Cedric Henderson|Golden State Warr...|1975-03-11|         12|           0|          69.0| 15|  31|  2|  4|  4|  7|  1|  2|  3|  4|  6|  2|  8|  4|  36|                1.75|\n",
            "|1996-97|   Charles Jones|     Houston Rockets|1957-04-03|         13|           0|          94.0|  2|   5|  0|  0|  0|  0|  5|  8| 13|  4|  2|  4|  0|  8|   4| 0.07692307692307693|\n",
            "|1997-98|   Charles Jones|     Houston Rockets|1957-04-03|         28|           0|         136.0|  7|  10|  0|  0|  3|  4| 13| 14| 27|  6|  1|  6|  4| 26|  17| -0.5357142857142857|\n",
            "|1998-99|   Charles Jones|       Chicago Bulls|1975-07-17|         29|           5|         476.0| 39| 123| 19| 61| 11| 22|  9| 33| 42| 41| 18|  5| 29| 30| 108|                -4.0|\n",
            "|1999-00|   Charles Jones|Los Angeles Clippers|1975-07-17|         56|           0|         657.0| 66| 201| 39|118| 17| 23| 17| 45| 62| 94| 30|  5| 28| 46| 188| -3.1607142857142856|\n",
            "|1996-97|   Charles Smith|   San Antonio Spurs|1965-07-16|         19|           7|         328.0| 34|  84|  0|  1| 20| 26| 18| 47| 65| 14| 13| 22| 22| 44|  88| -2.1052631578947367|\n",
            "|1996-97|   Charles Smith|   San Antonio Spurs|1967-11-29|          4|           2|          91.0| 13|  24|  0|  0|  6|  6|  6| 15| 21|  5|  1|  5|  9| 18|  32|                -2.5|\n",
            "|1997-98|   Charles Smith|          Miami Heat|1975-08-22|          5|           0|          14.0|  2|   8|  0|  1|  0|  0|  0|  2|  2|  1|  0|  1|  1|  1|   4|                -2.5|\n",
            "|1997-98|   Charles Smith|Los Angeles Clippers|1975-08-22|         23|           0|         261.0| 45| 107| 14| 44|  5|  9|  8| 11| 19| 19| 10|  5| 21| 21| 109| -0.5217391304347826|\n",
            "|1997-98|   Charles Smith|          Miami Heat|1965-07-16|          6|           0|          17.0|  2|  10|  1|  2|  1|  2|  5|  1|  6|  1|  2|  0|  5|  2|   6|                -2.0|\n",
            "|1998-99|   Charles Smith|Los Angeles Clippers|1975-08-22|         23|          10|         315.0| 35|  97|  7| 33|  7| 16|  7| 17| 24| 13| 17| 14| 20| 35|  84| -3.5652173913043477|\n",
            "|2001-02|   Charles Smith|   San Antonio Spurs|1975-08-22|         64|          22|        1162.0|184| 431| 35|131| 43| 67| 36|100|136| 82| 54| 45| 62|119| 446|                -0.5|\n",
            "|2002-03|   Charles Smith|Portland Trail Bl...|1975-08-22|          3|           0|          13.0|  1|   4|  0|  1|  3|  4|  0|  0|  0|  1|  1|  0|  1|  3|   5|  1.6666666666666667|\n",
            "|2005-06|   Charles Smith|      Denver Nuggets|1975-08-22|          1|           0|           2.0|  0|   1|  0|  1|  0|  0|  0|  0|  0|  0|  0|  0|  0|  1|   0|                -5.0|\n",
            "|2005-06|   Charles Smith|Portland Trail Bl...|1975-08-22|         21|           4|         208.0| 30|  71| 15| 37|  5|  8|  3| 13| 16|  9|  5|  6|  4| 27|  80|-0.09523809523809523|\n",
            "|2010-11|   Chris Johnson|      Boston Celtics|1985-07-15|          4|           0|          32.0|  2|   3|  0|  0|  2|  2|  1|  4|  5|  1|  0|  3|  2|  3|   6|               -1.75|\n",
            "|2010-11|   Chris Johnson|Portland Trail Bl...|1985-07-15|         14|           1|         125.0|  8|  19|  0|  0| 15| 20| 11| 21| 32|  2|  3|  8|  8| 21|  31|  -2.357142857142857|\n",
            "|2011-12|   Chris Johnson| New Orleans Hornets|1985-07-15|          7|           0|          82.0|  9|  18|  0|  0|  5|  7|  7| 15| 22|  1|  5|  1|  8| 13|  23| -0.2857142857142857|\n",
            "|2011-12|   Chris Johnson|Portland Trail Bl...|1985-07-15|         20|           0|          93.0| 11|  23|  0|  0| 10| 12|  8| 10| 18|  1|  1|  8|  7| 20|  32|               -1.65|\n",
            "|2012-13|   Chris Johnson|   Memphis Grizzlies|1985-07-15|          8|           0|         102.0| 11|  25|  6| 18|  1|  2|  5|  6| 11|  2|  4|  0|  3|  5|  29|                 4.5|\n",
            "|2012-13|   Chris Johnson|Minnesota Timberw...|1990-04-29|         30|           0|         284.0| 48|  75|  0|  0| 21| 34| 20| 40| 60|  8|  7| 28| 13| 49| 117| -0.7666666666666667|\n",
            "|2012-13|   Chris Johnson|   Memphis Grizzlies|1990-04-29|          8|           0|         102.0| 11|  25|  6| 18|  1|  2|  5|  6| 11|  2|  4|  0|  3|  5|  29|                 4.5|\n",
            "|2012-13|   Chris Johnson|Minnesota Timberw...|1985-07-15|         30|           0|         284.0| 48|  75|  0|  0| 21| 34| 20| 40| 60|  8|  7| 28| 13| 49| 117| -0.7666666666666667|\n",
            "|2013-14|   Chris Johnson|      Boston Celtics|1990-04-29|         40|           0|         789.0| 85| 214| 43|127| 37| 43| 31| 66| 97| 31| 27|  4| 22| 63| 250|                0.35|\n",
            "|2014-15|   Chris Johnson|     Milwaukee Bucks|1990-04-29|          8|           0|         128.0| 12|  30|  5| 18|  2|  2|  2|  9| 11|  5|  5|  2|  0|  7|  31|               -6.25|\n",
            "|2014-15|   Chris Johnson|           Utah Jazz|1990-04-29|         12|           0|         211.0| 31|  64| 13| 38|  6|  6|  3| 15| 18|  7| 12|  0|  6| 18|  81|                2.75|\n",
            "|2014-15|   Chris Johnson|  Philadelphia 76ers|1990-04-29|          9|           2|         187.0| 19|  60| 10| 39|  6|  8|  3| 23| 26|  3|  9|  5|  9| 19|  54| -1.5555555555555556|\n",
            "|2015-16|   Chris Johnson|           Utah Jazz|1990-04-29|         70|           2|         857.0| 72| 194| 27| 99| 34| 42| 27|105|132| 45| 32| 20| 40|100| 205|0.014285714285714285|\n",
            "|2011-12|    Chris Wright|Golden State Warr...|1988-09-30|         23|           1|         180.0| 23|  43|  0|  0| 24| 31| 17| 25| 42|  4|  7| 12|  7| 22|  70|  -0.782608695652174|\n",
            "|2012-13|    Chris Wright|    Dallas Mavericks|1988-09-30|          3|           0|           4.0|  1|   2|  0|  0|  0|  0|  0|  0|  0|  0|  0|  0|  1|  0|   2| -2.6666666666666665|\n",
            "|2012-13|    Chris Wright|    Dallas Mavericks|1989-11-04|          3|           0|           4.0|  1|   2|  0|  0|  0|  0|  0|  0|  0|  0|  0|  0|  1|  0|   2| -2.6666666666666665|\n",
            "|2013-14|    Chris Wright|     Milwaukee Bucks|1988-09-30|          8|           0|         125.0| 21|  35|  0|  1|  6| 15| 10| 10| 20|  5|  7|  5|  5| 17|  48|              -3.125|\n",
            "|2005-06|       David Lee|     New York Knicks|1983-04-29|         50|          12|         918.0|117| 186|  0|  0| 54| 94| 82|153|235| 32| 24| 14| 36| 99| 288|               -2.38|\n",
            "|2006-07|       David Lee|     New York Knicks|1983-04-29|         58|          12|        1731.0|240| 400|  0|  0|141|173|196|406|602|104| 48| 23| 92|155| 621|  1.4482758620689655|\n",
            "|2007-08|       David Lee|     New York Knicks|1983-04-29|         81|          29|        2356.0|341| 618|  0|  2|194|237|242|482|724| 95| 55| 29| 97|210| 876| -3.0123456790123457|\n",
            "|2008-09|       David Lee|     New York Knicks|1983-04-29|         81|          74|        2824.0|522| 951|  0|  3|249|330|256|695|951|174| 80| 22|150|260|1293| -2.4444444444444446|\n",
            "|2009-10|       David Lee|     New York Knicks|1983-04-29|         81|          81|        3019.0|686|1258|  0|  8|268|330|228|721|949|295| 85| 40|189|257|1640|  -3.197530864197531|\n",
            "|2010-11|       David Lee|Golden State Warr...|1983-04-29|         73|          73|        2634.0|496| 978|  1|  3|210|267|217|497|714|233| 74| 31|170|211|1203|   -1.63013698630137|\n",
            "|2011-12|       David Lee|Golden State Warr...|1983-04-29|         57|          57|        2121.0|464| 922|  0|  5|219|280|171|374|545|162| 54| 22|149|179|1147|  -2.473684210526316|\n",
            "|2012-13|       David Lee|Golden State Warr...|1983-04-29|         85|          80|        2973.0|615|1193|  0|  4|259|326|224|690|914|284| 70| 23|212|251|1489|  1.9294117647058824|\n",
            "|2013-14|       David Lee|Golden State Warr...|1983-04-29|         76|          74|        2506.0|554|1058|  0|  1|246|315|206|501|707|165| 52| 26|169|234|1354|  6.2894736842105265|\n",
            "|2014-15|       David Lee|Golden State Warr...|1983-04-29|         62|           4|        1011.0|176| 353|  0|  2| 76|119| 92|199|291| 93| 34| 28| 51|100| 428|  0.9516129032258065|\n",
            "|2015-16|       David Lee|    Dallas Mavericks|1983-04-29|         27|           1|         466.0| 97| 151|  0|  0| 31| 42| 61|120|181| 31| 10| 15| 28| 70| 225| -2.3333333333333335|\n",
            "|2015-16|       David Lee|      Boston Celtics|1983-04-29|         30|           4|         470.0| 87| 192|  0|  1| 40| 51| 41| 89|130| 54| 12| 13| 38| 51| 214| -1.3333333333333333|\n",
            "|2016-17|       David Lee|   San Antonio Spurs|1983-04-29|         94|          14|        1722.0|273| 468|  0|  1| 91|130|169|329|498|135| 35| 45| 88|145| 637|  3.7872340425531914|\n",
            "|1996-97|    David Vaughn|       Orlando Magic|1973-03-23|         35|           6|         297.0| 31|  72|  0|  0| 19| 30| 35| 60| 95|  7|  8| 15| 29| 43|  81| -0.9714285714285714|\n",
            "|1997-98|    David Vaughn|     New Jersey Nets|1973-03-23|         16|           2|         160.0| 19|  33|  0|  0|  6|  9| 19| 30| 49|  2|  5|  5|  9| 34|  44|              -0.875|\n",
            "|1997-98|    David Vaughn|       Chicago Bulls|1973-03-23|          3|           0|           5.0|  1|   1|  0|  0|  2|  4|  0|  1|  1|  0|  0|  0|  0|  1|   4|                 1.0|\n",
            "|1997-98|    David Vaughn|Golden State Warr...|1973-03-23|         22|           0|         322.0| 46| 114|  0|  1| 22| 34| 34| 68|102| 18| 10|  6| 31| 48| 114|  -4.681818181818182|\n",
            "|1998-99|    David Vaughn|     New Jersey Nets|1973-03-23|         10|           0|         102.0| 13|  24|  0|  0|  8| 10| 13| 21| 34|  1|  2|  8| 11| 22|  34|                -0.2|\n",
            "|1996-97|       Dee Brown|      Boston Celtics|1968-11-29|         21|           2|         522.0| 61| 166| 20| 65| 18| 22|  8| 40| 48| 67| 31|  7| 24| 45| 160| -3.0952380952380953|\n",
            "|1997-98|       Dee Brown|     Toronto Raptors|1968-11-29|         31|           2|         908.0|137| 307| 65|158| 39| 43| 14| 76| 90|101| 38| 17| 41| 47| 378|  -3.161290322580645|\n",
            "|1997-98|       Dee Brown|      Boston Celtics|1968-11-29|         41|          10|         814.0|109| 255| 43|113| 19| 28| 10| 52| 62| 53| 44|  6| 32| 76| 280| -3.7560975609756095|\n",
            "|1998-99|       Dee Brown|     Toronto Raptors|1968-11-29|         49|           0|        1380.0|187| 495|135|349| 40| 55| 15| 88|103|143| 56|  8| 80| 75| 549| -0.5918367346938775|\n",
            "|1999-00|       Dee Brown|     Toronto Raptors|1968-11-29|         41|          12|         694.0| 93| 262| 67|190| 11| 16|  9| 47| 56| 88| 26|  5| 40| 66| 264|-0.14634146341463414|\n",
            "|2000-01|       Dee Brown|       Orlando Magic|1968-11-29|         10|           0|         210.0| 22|  57| 18| 43|  4|  5|  0| 14| 14| 16|  6|  0|  8| 13|  66|                -2.2|\n",
            "|2001-02|       Dee Brown|       Orlando Magic|1968-11-29|          7|           0|          66.0|  3|  20|  1| 12|  0|  0|  0|  9|  9|  2|  3|  1|  4|  4|   7|-0.42857142857142855|\n",
            "|2006-07|       Dee Brown|           Utah Jazz|1984-08-17|         36|           0|         316.0| 27|  72|  5| 23| 15| 25|  6| 22| 28| 66|  9|  2| 22| 30|  74|  0.7777777777777778|\n",
            "|2008-09|       Dee Brown|        Phoenix Suns|1984-08-17|          2|           0|          28.0|  1|   5|  1|  4|  2|  2|  0|  1|  1|  3|  0|  0|  3|  6|   5|                -2.5|\n",
            "|2008-09|       Dee Brown|  Washington Wizards|1984-08-17|         17|          11|         233.0| 17|  44|  6| 20|  1|  3|  7| 21| 28| 33| 10|  0| 14| 22|  41| -1.9411764705882353|\n",
            "|1996-97|   Eddie Johnson|     Houston Rockets|1959-05-01|         40|           2|         889.0|149| 343| 54|150| 58| 65| 39| 95|134| 45| 15|  1| 37| 65| 410|               0.775|\n",
            "|1996-97|   Eddie Johnson|      Indiana Pacers|1959-05-01|         28|           0|         306.0| 59| 136|  9| 28| 20| 27|  3| 37| 40| 17|  5|  1| 17| 33| 147| 0.14285714285714285|\n",
            "|1997-98|   Eddie Johnson|     Houston Rockets|1959-05-01|         80|           1|        1578.0|236| 571| 69|208|120|144| 54|107|161| 89| 32|  3| 65| 99| 661|             -1.4875|\n",
            "|1998-99|   Eddie Johnson|     Houston Rockets|1959-05-01|          3|           0|          18.0|  6|  13|  0|  1|  0|  0|  0|  2|  2|  1|  0|  0|  2|  3|  12| -2.6666666666666665|\n",
            "|2009-10|Gerald Henderson|   Charlotte Bobcats|1987-12-09|         22|           0|         169.0| 15|  46|  0|  5| 15| 22|  9| 24| 33|  7|  5|  4|  8| 14|  45| -1.9545454545454546|\n",
            "|2010-11|Gerald Henderson|   Charlotte Bobcats|1987-12-09|         68|          30|        1661.0|259| 570|  7| 36|128|163| 49|158|207|101| 50| 32| 64|118| 653| -1.5147058823529411|\n",
            "|2011-12|Gerald Henderson|   Charlotte Bobcats|1987-12-09|         55|          55|        1831.0|332| 723| 11| 47|155|204| 64|161|225|126| 49| 20|100|128| 830|  -8.945454545454545|\n",
            "|2012-13|Gerald Henderson|   Charlotte Bobcats|1987-12-09|         68|          58|        2133.0|382| 855| 33|100|258|313| 55|195|250|177| 68| 34|108|149|1055|  -5.955882352941177|\n",
            "|2013-14|Gerald Henderson|   Charlotte Bobcats|1987-12-09|         81|          81|        2580.0|417| 967| 40|124|246|326| 32|294|326|208| 55| 33|119|171|1120| -1.2839506172839505|\n",
            "|2014-15|Gerald Henderson|   Charlotte Hornets|1987-12-09|         80|          72|        2315.0|370| 847| 45|136|184|217| 36|237|273|206| 51| 22|110|135| 969|                -0.4|\n",
            "|2015-16|Gerald Henderson|Portland Trail Bl...|1987-12-09|         83|           0|        1665.0|262| 611| 55|155|121|158| 36|210|246| 92| 45| 22| 73|108| 700| -0.0963855421686747|\n",
            "|2016-17|Gerald Henderson|  Philadelphia 76ers|1987-12-09|         72|          41|        1667.0|234| 553| 61|173|133|165| 34|151|185|112| 40| 15| 62|129| 662|  -4.347222222222222|\n",
            "|2011-12|      Greg Smith|     Houston Rockets|1991-01-08|          8|           0|          69.0|  7|  11|  0|  0|  0|  0|  5| 15| 20|  1|  2|  5|  1| 17|  14|                -0.5|\n",
            "|2012-13|      Greg Smith|     Houston Rockets|1991-01-08|         75|          11|        1169.0|176| 283|  0|  1| 87|142|118|216|334| 25| 20| 42| 45|184| 439|  0.6266666666666667|\n",
            "|2013-14|      Greg Smith|     Houston Rockets|1991-01-08|         11|           0|         100.0| 18|  28|  0|  0|  2|  5| 11| 16| 27|  0|  1|  2|  5| 17|  38| -1.4545454545454546|\n",
            "|2014-15|      Greg Smith|    Dallas Mavericks|1991-01-08|         43|           2|         363.0| 30|  49|  0|  0| 20| 39| 26| 53| 79|  9|  7| 11| 11| 53|  80| -0.5116279069767442|\n",
            "|2015-16|      Greg Smith|Minnesota Timberw...|1991-01-08|         18|           0|         192.0| 18|  32|  0|  0|  7| 17| 12| 30| 42|  6|  4|  1|  7| 28|  43|  -4.277777777777778|\n",
            "|2012-13|     Jeff Taylor|   Charlotte Bobcats|1989-05-23|         47|           7|         802.0|102| 221| 30| 86| 40| 60| 22| 53| 75| 36| 23|  8| 26| 75| 274|   -3.74468085106383|\n",
            "|2013-14|     Jeff Taylor|   Charlotte Bobcats|1989-05-23|         26|           8|         629.0| 82| 218| 18| 67| 26| 47| 15| 45| 60| 22| 13|  5| 25| 62| 208| -2.8846153846153846|\n",
            "|2014-15|     Jeff Taylor|   Charlotte Hornets|1989-05-23|         29|          13|         430.0| 45| 114| 11| 36| 26| 41| 14| 39| 53| 22| 12|  1| 19| 36| 127|  -4.379310344827586|\n",
            "|2002-03|     Ken Johnson|          Miami Heat|1978-02-01|         13|           0|         141.0| 15|  36|  0|  0|  2|  6|  4| 26| 30|  0|  1| 11|  6| 18|  32| -0.7692307692307693|\n",
            "|1996-97|   Larry Johnson|     New York Knicks|1969-03-14|         85|          85|        2904.0|419| 812| 40|122|222|312|176|253|429|197| 71| 36|151|276|1100|  2.1411764705882352|\n",
            "|1997-98|   Larry Johnson|     New York Knicks|1969-03-14|         78|          78|        2724.0|481| 991| 17| 73|251|333|200|254|454|163| 50| 16|152|223|1230|  0.9743589743589743|\n",
            "|1998-99|   Larry Johnson|     New York Knicks|1969-03-14|         69|          68|        2321.0|297| 662| 57|174|165|210|113|268|381|150| 55| 11|122|211| 816|   2.072463768115942|\n",
            "|1999-00|   Larry Johnson|     New York Knicks|1969-03-14|         86|          84|        2870.0|352| 804| 71|207|155|201|102|358|460|199| 50|  9|117|252| 930|  0.9069767441860465|\n",
            "|2000-01|   Larry Johnson|     New York Knicks|1969-03-14|         65|          65|        2108.0|246| 598| 51|163|102|128| 90|273|363|127| 39| 29| 97|209| 645|-0.26153846153846155|\n",
            "+-------+----------------+--------------------+----------+-----------+------------+--------------+---+----+---+---+---+---+---+---+---+---+---+---+---+---+----+--------------------+\n",
            "only showing top 100 rows\n",
            "\n"
          ]
        }
      ]
    },
    {
      "cell_type": "code",
      "source": [
        "game_stat_yr\\\n",
        "        .coalesce(1)\\\n",
        "        .write\\\n",
        "        .option(\"header\", True)\\\n",
        "        .csv(\"/content/drive/MyDrive/NBA_Scrape/data/season_stats1.csv\", mode='overwrite')"
      ],
      "metadata": {
        "id": "YDYSoGuUNy0s"
      },
      "execution_count": null,
      "outputs": []
    },
    {
      "cell_type": "code",
      "source": [
        "from gspread_dataframe import get_as_dataframe, set_with_dataframe"
      ],
      "metadata": {
        "id": "BHzCjjVbFPv3"
      },
      "execution_count": null,
      "outputs": []
    },
    {
      "cell_type": "code",
      "source": [
        "sheet = gc.open_by_url(\"https://docs.google.com/spreadsheets/d/1-3KFXOe9LkIZcYqLjqoHMwMvkjy4-T0-aoVDzLTzEIo\").worksheet('season_stats')\n",
        "set_with_dataframe(sheet, game_stat_yr.toPandas())#.to_csv('/content/drive/MyDrive/NBA_Scrape/data/season_stats.csv', index=False)"
      ],
      "metadata": {
        "id": "y7mlrrRFOyop"
      },
      "execution_count": null,
      "outputs": []
    },
    {
      "cell_type": "code",
      "source": [
        "!rm -rf /content/drive/MyDrive/NBA_Scrape/data/season_stats.csv"
      ],
      "metadata": {
        "id": "nEr16BnRQeV3"
      },
      "execution_count": null,
      "outputs": []
    },
    {
      "cell_type": "code",
      "source": [
        "games_df.toPandas().to_csv(\"/content/drive/MyDrive/NBA_Scrape/data/games.csv\", index=False)"
      ],
      "metadata": {
        "id": "H1-tpQ2lQgiH"
      },
      "execution_count": null,
      "outputs": []
    },
    {
      "cell_type": "code",
      "source": [
        "players_df.toPandas().to_csv(\"/content/drive/MyDrive/NBA_Scrape/data/players.csv\", index=False)"
      ],
      "metadata": {
        "id": "Eg_kBH1CRsrn"
      },
      "execution_count": null,
      "outputs": []
    },
    {
      "cell_type": "code",
      "source": [
        "scores_df.toPandas().to_csv('/content/drive/MyDrive/NBA_Scrape/data/boxscores.csv', index=False)"
      ],
      "metadata": {
        "id": "t6xBo3s6R3ix"
      },
      "execution_count": null,
      "outputs": []
    },
    {
      "cell_type": "code",
      "source": [
        "game_stat_yr.printSchema()"
      ],
      "metadata": {
        "colab": {
          "base_uri": "https://localhost:8080/"
        },
        "id": "EQoGKJSTSnUP",
        "outputId": "fcd4bebd-99f6-4347-86b4-96cb1df236a9"
      },
      "execution_count": null,
      "outputs": [
        {
          "output_type": "stream",
          "name": "stdout",
          "text": [
            "root\n",
            " |-- season: string (nullable = true)\n",
            " |-- game_year: integer (nullable = true)\n",
            " |-- player_name: string (nullable = true)\n",
            " |-- team_name: string (nullable = true)\n",
            " |-- age: integer (nullable = true)\n",
            " |-- isRegular: integer (nullable = true)\n",
            " |-- isStarter: integer (nullable = true)\n",
            " |-- game_played: long (nullable = false)\n",
            " |-- game_started: long (nullable = true)\n",
            " |-- minutes_played: double (nullable = true)\n",
            " |-- FG: long (nullable = true)\n",
            " |-- FGA: long (nullable = true)\n",
            " |-- 3P: long (nullable = true)\n",
            " |-- 3PA: long (nullable = true)\n",
            " |-- FT: long (nullable = true)\n",
            " |-- FTA: long (nullable = true)\n",
            " |-- ORB: long (nullable = true)\n",
            " |-- DRB: long (nullable = true)\n",
            " |-- TRB: long (nullable = true)\n",
            " |-- AST: long (nullable = true)\n",
            " |-- STL: long (nullable = true)\n",
            " |-- BLK: long (nullable = true)\n",
            " |-- TOV: long (nullable = true)\n",
            " |-- PF: long (nullable = true)\n",
            " |-- PTS: long (nullable = true)\n",
            " |-- plus_minus: double (nullable = true)\n",
            "\n"
          ]
        }
      ]
    },
    {
      "cell_type": "code",
      "source": [],
      "metadata": {
        "id": "KJ7XhKeij1ZV"
      },
      "execution_count": null,
      "outputs": []
    }
  ]
}